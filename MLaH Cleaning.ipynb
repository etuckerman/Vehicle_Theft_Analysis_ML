{
 "cells": [
  {
   "cell_type": "markdown",
   "id": "39e67a90",
   "metadata": {},
   "source": [
    "# Import libraries\n"
   ]
  },
  {
   "cell_type": "code",
   "execution_count": 1,
   "id": "fddb9d66",
   "metadata": {},
   "outputs": [],
   "source": [
    "import pandas as pd\n",
    "import numpy as np\n",
    "import matplotlib.pyplot as plt\n",
    "import math\n",
    "import seaborn as sns\n",
    "import sklearn as sk\n",
    "from sklearn import preprocessing\n",
    "from sklearn.model_selection import train_test_split\n",
    "from sklearn.preprocessing import StandardScaler\n",
    "from sklearn.linear_model import LinearRegression\n",
    "from sklearn.preprocessing import LabelEncoder\n",
    "\n",
    "%matplotlib inline"
   ]
  },
  {
   "cell_type": "markdown",
   "id": "706e15f2",
   "metadata": {},
   "source": [
    "# Import csv data"
   ]
  },
  {
   "cell_type": "code",
   "execution_count": 2,
   "id": "4a4f99d9",
   "metadata": {},
   "outputs": [],
   "source": [
    "df = pd.read_csv('cwdata.csv')"
   ]
  },
  {
   "cell_type": "markdown",
   "id": "8119feba",
   "metadata": {},
   "source": [
    "# Display first 10 rows of data to ensure correctly imported"
   ]
  },
  {
   "cell_type": "code",
   "execution_count": 3,
   "id": "7ebd34c2",
   "metadata": {},
   "outputs": [
    {
     "data": {
      "text/html": [
       "<div>\n",
       "<style scoped>\n",
       "    .dataframe tbody tr th:only-of-type {\n",
       "        vertical-align: middle;\n",
       "    }\n",
       "\n",
       "    .dataframe tbody tr th {\n",
       "        vertical-align: top;\n",
       "    }\n",
       "\n",
       "    .dataframe thead th {\n",
       "        text-align: right;\n",
       "    }\n",
       "</style>\n",
       "<table border=\"1\" class=\"dataframe\">\n",
       "  <thead>\n",
       "    <tr style=\"text-align: right;\">\n",
       "      <th></th>\n",
       "      <th>Income</th>\n",
       "      <th>Area</th>\n",
       "      <th>Employed</th>\n",
       "      <th>Home Owner</th>\n",
       "      <th>Make</th>\n",
       "      <th>Model</th>\n",
       "      <th>Gender</th>\n",
       "      <th>Age</th>\n",
       "      <th>Colour</th>\n",
       "      <th>Stolen</th>\n",
       "    </tr>\n",
       "  </thead>\n",
       "  <tbody>\n",
       "    <tr>\n",
       "      <th>0</th>\n",
       "      <td>12500</td>\n",
       "      <td>Urban</td>\n",
       "      <td>NaN</td>\n",
       "      <td>N</td>\n",
       "      <td>Toyota</td>\n",
       "      <td>Auris</td>\n",
       "      <td>F</td>\n",
       "      <td>25</td>\n",
       "      <td>Yellow</td>\n",
       "      <td>N</td>\n",
       "    </tr>\n",
       "    <tr>\n",
       "      <th>1</th>\n",
       "      <td>76300</td>\n",
       "      <td>R</td>\n",
       "      <td>Y</td>\n",
       "      <td>Y</td>\n",
       "      <td>BMW</td>\n",
       "      <td>3 series</td>\n",
       "      <td>Male</td>\n",
       "      <td>25</td>\n",
       "      <td>Black</td>\n",
       "      <td>Yes</td>\n",
       "    </tr>\n",
       "    <tr>\n",
       "      <th>2</th>\n",
       "      <td>52340</td>\n",
       "      <td>Rural</td>\n",
       "      <td>N</td>\n",
       "      <td>Yes</td>\n",
       "      <td>Mercedes</td>\n",
       "      <td>C Class</td>\n",
       "      <td>F</td>\n",
       "      <td>25</td>\n",
       "      <td>Grey</td>\n",
       "      <td>1</td>\n",
       "    </tr>\n",
       "    <tr>\n",
       "      <th>3</th>\n",
       "      <td>150600</td>\n",
       "      <td>Rural</td>\n",
       "      <td>Y</td>\n",
       "      <td>Y</td>\n",
       "      <td>BMW</td>\n",
       "      <td>3 series</td>\n",
       "      <td>F</td>\n",
       "      <td>19</td>\n",
       "      <td>White</td>\n",
       "      <td>Y</td>\n",
       "    </tr>\n",
       "    <tr>\n",
       "      <th>4</th>\n",
       "      <td>50000</td>\n",
       "      <td>Rural</td>\n",
       "      <td>Yes</td>\n",
       "      <td>1</td>\n",
       "      <td>Volkswagon</td>\n",
       "      <td>Golf</td>\n",
       "      <td>Male</td>\n",
       "      <td>55</td>\n",
       "      <td>Black</td>\n",
       "      <td>Yes</td>\n",
       "    </tr>\n",
       "    <tr>\n",
       "      <th>5</th>\n",
       "      <td>15000</td>\n",
       "      <td>Rural</td>\n",
       "      <td>Y</td>\n",
       "      <td>Yes</td>\n",
       "      <td>Peugeot</td>\n",
       "      <td>107</td>\n",
       "      <td>F</td>\n",
       "      <td>54</td>\n",
       "      <td>Yellow</td>\n",
       "      <td>N</td>\n",
       "    </tr>\n",
       "    <tr>\n",
       "      <th>6</th>\n",
       "      <td>6550</td>\n",
       "      <td>U</td>\n",
       "      <td>Y</td>\n",
       "      <td>No</td>\n",
       "      <td>Toyota</td>\n",
       "      <td>Avensis</td>\n",
       "      <td>Male</td>\n",
       "      <td>42</td>\n",
       "      <td>Red</td>\n",
       "      <td>N</td>\n",
       "    </tr>\n",
       "    <tr>\n",
       "      <th>7</th>\n",
       "      <td>75430</td>\n",
       "      <td>R</td>\n",
       "      <td>Yes</td>\n",
       "      <td>1</td>\n",
       "      <td>BMW</td>\n",
       "      <td>3 series</td>\n",
       "      <td>F</td>\n",
       "      <td>32</td>\n",
       "      <td>Grey</td>\n",
       "      <td>Yes</td>\n",
       "    </tr>\n",
       "    <tr>\n",
       "      <th>8</th>\n",
       "      <td>54350</td>\n",
       "      <td>Rural</td>\n",
       "      <td>No</td>\n",
       "      <td>N</td>\n",
       "      <td>Mercedes</td>\n",
       "      <td>C Class</td>\n",
       "      <td>Female</td>\n",
       "      <td>65</td>\n",
       "      <td>Black</td>\n",
       "      <td>Y</td>\n",
       "    </tr>\n",
       "    <tr>\n",
       "      <th>9</th>\n",
       "      <td>42130</td>\n",
       "      <td>U</td>\n",
       "      <td>Y</td>\n",
       "      <td>Y</td>\n",
       "      <td>Ford</td>\n",
       "      <td>Kia</td>\n",
       "      <td>M</td>\n",
       "      <td>28</td>\n",
       "      <td>Red</td>\n",
       "      <td>No</td>\n",
       "    </tr>\n",
       "  </tbody>\n",
       "</table>\n",
       "</div>"
      ],
      "text/plain": [
       "   Income   Area Employed Home Owner        Make     Model  Gender Age  \\\n",
       "0   12500  Urban      NaN          N      Toyota     Auris       F  25   \n",
       "1   76300      R        Y          Y         BMW  3 series    Male  25   \n",
       "2   52340  Rural        N        Yes    Mercedes   C Class       F  25   \n",
       "3  150600  Rural        Y          Y         BMW  3 series       F  19   \n",
       "4   50000  Rural      Yes          1  Volkswagon      Golf    Male  55   \n",
       "5   15000  Rural        Y        Yes     Peugeot       107       F  54   \n",
       "6    6550     U         Y         No      Toyota   Avensis    Male  42   \n",
       "7   75430      R      Yes          1         BMW  3 series       F  32   \n",
       "8   54350  Rural       No          N    Mercedes   C Class  Female  65   \n",
       "9   42130      U        Y          Y        Ford       Kia       M  28   \n",
       "\n",
       "   Colour Stolen  \n",
       "0  Yellow      N  \n",
       "1   Black    Yes  \n",
       "2    Grey      1  \n",
       "3   White      Y  \n",
       "4   Black    Yes  \n",
       "5  Yellow      N  \n",
       "6     Red      N  \n",
       "7    Grey    Yes  \n",
       "8   Black      Y  \n",
       "9     Red     No  "
      ]
     },
     "execution_count": 3,
     "metadata": {},
     "output_type": "execute_result"
    }
   ],
   "source": [
    "df.head(10)"
   ]
  },
  {
   "cell_type": "markdown",
   "id": "d2a54ab3",
   "metadata": {},
   "source": [
    "# Check the size of the dataset"
   ]
  },
  {
   "cell_type": "code",
   "execution_count": 4,
   "id": "bb306e17",
   "metadata": {},
   "outputs": [
    {
     "data": {
      "text/plain": [
       "(120, 10)"
      ]
     },
     "execution_count": 4,
     "metadata": {},
     "output_type": "execute_result"
    }
   ],
   "source": [
    "df.shape"
   ]
  },
  {
   "cell_type": "markdown",
   "id": "dea4073f",
   "metadata": {},
   "source": [
    "# Clean: Empty strings to NaN Values"
   ]
  },
  {
   "cell_type": "code",
   "execution_count": 5,
   "id": "c63cf42d",
   "metadata": {},
   "outputs": [],
   "source": [
    "df.replace(' ', np.nan, inplace=True)\n",
    "df.replace('', np.nan, inplace=True)"
   ]
  },
  {
   "cell_type": "markdown",
   "id": "4f15b43a",
   "metadata": {},
   "source": [
    "# Clean: Income"
   ]
  },
  {
   "cell_type": "markdown",
   "id": "e888e155",
   "metadata": {},
   "source": [
    "## Check unique entries within INCOME\n",
    "### to see what needs cleaning"
   ]
  },
  {
   "cell_type": "code",
   "execution_count": 6,
   "id": "474b7ff1",
   "metadata": {},
   "outputs": [
    {
     "data": {
      "text/plain": [
       "[0,\n",
       " 3560,\n",
       " 5000,\n",
       " 5450,\n",
       " 5500,\n",
       " 6550,\n",
       " 8650,\n",
       " 11250,\n",
       " 12300,\n",
       " 12340,\n",
       " 12345,\n",
       " 12500,\n",
       " 15000,\n",
       " 15230,\n",
       " 21500,\n",
       " 22450,\n",
       " 26525,\n",
       " 31240,\n",
       " 32250,\n",
       " 32450,\n",
       " 34560,\n",
       " 35200,\n",
       " 35600,\n",
       " 37250,\n",
       " 37650,\n",
       " 38000,\n",
       " 38600,\n",
       " 38900,\n",
       " 39350,\n",
       " 39600,\n",
       " 39860,\n",
       " 41230,\n",
       " 42000,\n",
       " 42130,\n",
       " 42450,\n",
       " 43000,\n",
       " 43235,\n",
       " 43250,\n",
       " 43560,\n",
       " 45000,\n",
       " 45050,\n",
       " 45500,\n",
       " 46530,\n",
       " 46540,\n",
       " 46550,\n",
       " 47650,\n",
       " 47980,\n",
       " 48459,\n",
       " 50000,\n",
       " 52000,\n",
       " 52340,\n",
       " 52350,\n",
       " 53200,\n",
       " 54000,\n",
       " 54350,\n",
       " 54560,\n",
       " 55200,\n",
       " 55230,\n",
       " 55600,\n",
       " 56870,\n",
       " 63225,\n",
       " 64230,\n",
       " 65200,\n",
       " 74500,\n",
       " 75250,\n",
       " 75300,\n",
       " 75430,\n",
       " 76300,\n",
       " 76320,\n",
       " 78450,\n",
       " 82300,\n",
       " 84500,\n",
       " 86550,\n",
       " 95500,\n",
       " 150600,\n",
       " 156000]"
      ]
     },
     "execution_count": 6,
     "metadata": {},
     "output_type": "execute_result"
    }
   ],
   "source": [
    "sorted(df['Income'].unique())"
   ]
  },
  {
   "cell_type": "markdown",
   "id": "84fec064",
   "metadata": {},
   "source": [
    "# Clean: Area"
   ]
  },
  {
   "cell_type": "markdown",
   "id": "365355ab",
   "metadata": {},
   "source": [
    "## Check unique entries within AREA\n",
    "### to see what needs cleaning"
   ]
  },
  {
   "cell_type": "code",
   "execution_count": 7,
   "id": "b3bce7bf",
   "metadata": {},
   "outputs": [
    {
     "data": {
      "text/plain": [
       "array(['Urban', 'R', 'Rural', 'U ', 'U', 'u', 'r', 'Rurak'], dtype=object)"
      ]
     },
     "execution_count": 7,
     "metadata": {},
     "output_type": "execute_result"
    }
   ],
   "source": [
    "df['Area'].unique()"
   ]
  },
  {
   "cell_type": "markdown",
   "id": "2adf48dd",
   "metadata": {},
   "source": [
    "## Make all entries uppercase\n",
    "### because there are lower and uppercase entries"
   ]
  },
  {
   "cell_type": "code",
   "execution_count": 8,
   "id": "736694f7",
   "metadata": {},
   "outputs": [
    {
     "data": {
      "text/plain": [
       "array(['URBAN', 'R', 'RURAL', 'U ', 'U', 'RURAK'], dtype=object)"
      ]
     },
     "execution_count": 8,
     "metadata": {},
     "output_type": "execute_result"
    }
   ],
   "source": [
    "df['Area'] = df['Area'].str.upper()\n",
    "df['Area'].unique()"
   ]
  },
  {
   "cell_type": "markdown",
   "id": "5c8560d1",
   "metadata": {},
   "source": [
    "## Replace the variations of urban with URBAN\n",
    "### and the same for variations of RURAL\n",
    "#### inplace = True edits the original dataframe rather than creating a new one"
   ]
  },
  {
   "cell_type": "code",
   "execution_count": 9,
   "id": "4f6344e3",
   "metadata": {},
   "outputs": [
    {
     "data": {
      "text/plain": [
       "array(['URBAN', 'RURAL'], dtype=object)"
      ]
     },
     "execution_count": 9,
     "metadata": {},
     "output_type": "execute_result"
    }
   ],
   "source": [
    "df['Area'].replace({'U ': 'URBAN', 'U': 'URBAN', 'R': 'RURAL', 'RURAK': 'RURAL'}, inplace=True)\n",
    "df['Area'].unique()\n"
   ]
  },
  {
   "cell_type": "markdown",
   "id": "3267e060",
   "metadata": {},
   "source": [
    "## Reload dataframe with cleaned column\n",
    "### Deal with NaN values after complete dataframe clean to allow for more accurate linear interpolation"
   ]
  },
  {
   "cell_type": "code",
   "execution_count": 10,
   "id": "ab512275",
   "metadata": {},
   "outputs": [
    {
     "data": {
      "text/html": [
       "<div>\n",
       "<style scoped>\n",
       "    .dataframe tbody tr th:only-of-type {\n",
       "        vertical-align: middle;\n",
       "    }\n",
       "\n",
       "    .dataframe tbody tr th {\n",
       "        vertical-align: top;\n",
       "    }\n",
       "\n",
       "    .dataframe thead th {\n",
       "        text-align: right;\n",
       "    }\n",
       "</style>\n",
       "<table border=\"1\" class=\"dataframe\">\n",
       "  <thead>\n",
       "    <tr style=\"text-align: right;\">\n",
       "      <th></th>\n",
       "      <th>Income</th>\n",
       "      <th>Area</th>\n",
       "      <th>Employed</th>\n",
       "      <th>Home Owner</th>\n",
       "      <th>Make</th>\n",
       "      <th>Model</th>\n",
       "      <th>Gender</th>\n",
       "      <th>Age</th>\n",
       "      <th>Colour</th>\n",
       "      <th>Stolen</th>\n",
       "    </tr>\n",
       "  </thead>\n",
       "  <tbody>\n",
       "    <tr>\n",
       "      <th>0</th>\n",
       "      <td>12500</td>\n",
       "      <td>URBAN</td>\n",
       "      <td>NaN</td>\n",
       "      <td>N</td>\n",
       "      <td>Toyota</td>\n",
       "      <td>Auris</td>\n",
       "      <td>F</td>\n",
       "      <td>25</td>\n",
       "      <td>Yellow</td>\n",
       "      <td>N</td>\n",
       "    </tr>\n",
       "    <tr>\n",
       "      <th>1</th>\n",
       "      <td>76300</td>\n",
       "      <td>RURAL</td>\n",
       "      <td>Y</td>\n",
       "      <td>Y</td>\n",
       "      <td>BMW</td>\n",
       "      <td>3 series</td>\n",
       "      <td>Male</td>\n",
       "      <td>25</td>\n",
       "      <td>Black</td>\n",
       "      <td>Yes</td>\n",
       "    </tr>\n",
       "    <tr>\n",
       "      <th>2</th>\n",
       "      <td>52340</td>\n",
       "      <td>RURAL</td>\n",
       "      <td>N</td>\n",
       "      <td>Yes</td>\n",
       "      <td>Mercedes</td>\n",
       "      <td>C Class</td>\n",
       "      <td>F</td>\n",
       "      <td>25</td>\n",
       "      <td>Grey</td>\n",
       "      <td>1</td>\n",
       "    </tr>\n",
       "    <tr>\n",
       "      <th>3</th>\n",
       "      <td>150600</td>\n",
       "      <td>RURAL</td>\n",
       "      <td>Y</td>\n",
       "      <td>Y</td>\n",
       "      <td>BMW</td>\n",
       "      <td>3 series</td>\n",
       "      <td>F</td>\n",
       "      <td>19</td>\n",
       "      <td>White</td>\n",
       "      <td>Y</td>\n",
       "    </tr>\n",
       "    <tr>\n",
       "      <th>4</th>\n",
       "      <td>50000</td>\n",
       "      <td>RURAL</td>\n",
       "      <td>Yes</td>\n",
       "      <td>1</td>\n",
       "      <td>Volkswagon</td>\n",
       "      <td>Golf</td>\n",
       "      <td>Male</td>\n",
       "      <td>55</td>\n",
       "      <td>Black</td>\n",
       "      <td>Yes</td>\n",
       "    </tr>\n",
       "    <tr>\n",
       "      <th>5</th>\n",
       "      <td>15000</td>\n",
       "      <td>RURAL</td>\n",
       "      <td>Y</td>\n",
       "      <td>Yes</td>\n",
       "      <td>Peugeot</td>\n",
       "      <td>107</td>\n",
       "      <td>F</td>\n",
       "      <td>54</td>\n",
       "      <td>Yellow</td>\n",
       "      <td>N</td>\n",
       "    </tr>\n",
       "    <tr>\n",
       "      <th>6</th>\n",
       "      <td>6550</td>\n",
       "      <td>URBAN</td>\n",
       "      <td>Y</td>\n",
       "      <td>No</td>\n",
       "      <td>Toyota</td>\n",
       "      <td>Avensis</td>\n",
       "      <td>Male</td>\n",
       "      <td>42</td>\n",
       "      <td>Red</td>\n",
       "      <td>N</td>\n",
       "    </tr>\n",
       "    <tr>\n",
       "      <th>7</th>\n",
       "      <td>75430</td>\n",
       "      <td>RURAL</td>\n",
       "      <td>Yes</td>\n",
       "      <td>1</td>\n",
       "      <td>BMW</td>\n",
       "      <td>3 series</td>\n",
       "      <td>F</td>\n",
       "      <td>32</td>\n",
       "      <td>Grey</td>\n",
       "      <td>Yes</td>\n",
       "    </tr>\n",
       "    <tr>\n",
       "      <th>8</th>\n",
       "      <td>54350</td>\n",
       "      <td>RURAL</td>\n",
       "      <td>No</td>\n",
       "      <td>N</td>\n",
       "      <td>Mercedes</td>\n",
       "      <td>C Class</td>\n",
       "      <td>Female</td>\n",
       "      <td>65</td>\n",
       "      <td>Black</td>\n",
       "      <td>Y</td>\n",
       "    </tr>\n",
       "    <tr>\n",
       "      <th>9</th>\n",
       "      <td>42130</td>\n",
       "      <td>URBAN</td>\n",
       "      <td>Y</td>\n",
       "      <td>Y</td>\n",
       "      <td>Ford</td>\n",
       "      <td>Kia</td>\n",
       "      <td>M</td>\n",
       "      <td>28</td>\n",
       "      <td>Red</td>\n",
       "      <td>No</td>\n",
       "    </tr>\n",
       "  </tbody>\n",
       "</table>\n",
       "</div>"
      ],
      "text/plain": [
       "   Income   Area Employed Home Owner        Make     Model  Gender Age  \\\n",
       "0   12500  URBAN      NaN          N      Toyota     Auris       F  25   \n",
       "1   76300  RURAL        Y          Y         BMW  3 series    Male  25   \n",
       "2   52340  RURAL        N        Yes    Mercedes   C Class       F  25   \n",
       "3  150600  RURAL        Y          Y         BMW  3 series       F  19   \n",
       "4   50000  RURAL      Yes          1  Volkswagon      Golf    Male  55   \n",
       "5   15000  RURAL        Y        Yes     Peugeot       107       F  54   \n",
       "6    6550  URBAN        Y         No      Toyota   Avensis    Male  42   \n",
       "7   75430  RURAL      Yes          1         BMW  3 series       F  32   \n",
       "8   54350  RURAL       No          N    Mercedes   C Class  Female  65   \n",
       "9   42130  URBAN        Y          Y        Ford       Kia       M  28   \n",
       "\n",
       "   Colour Stolen  \n",
       "0  Yellow      N  \n",
       "1   Black    Yes  \n",
       "2    Grey      1  \n",
       "3   White      Y  \n",
       "4   Black    Yes  \n",
       "5  Yellow      N  \n",
       "6     Red      N  \n",
       "7    Grey    Yes  \n",
       "8   Black      Y  \n",
       "9     Red     No  "
      ]
     },
     "execution_count": 10,
     "metadata": {},
     "output_type": "execute_result"
    }
   ],
   "source": [
    "df.head(10)"
   ]
  },
  {
   "cell_type": "markdown",
   "id": "8f7c1a0c",
   "metadata": {},
   "source": [
    "# Clean: Employed"
   ]
  },
  {
   "cell_type": "markdown",
   "id": "77d8ee3f",
   "metadata": {},
   "source": [
    "## Check unique entries within EMPLOYED\n",
    "### to see what needs cleaning"
   ]
  },
  {
   "cell_type": "code",
   "execution_count": 11,
   "id": "363b4842",
   "metadata": {},
   "outputs": [
    {
     "data": {
      "text/plain": [
       "array([nan, 'Y', 'N', 'Yes', 'No', '1', '0', 'y'], dtype=object)"
      ]
     },
     "execution_count": 11,
     "metadata": {},
     "output_type": "execute_result"
    }
   ],
   "source": [
    "df['Employed'].unique()"
   ]
  },
  {
   "cell_type": "markdown",
   "id": "ee20ac73",
   "metadata": {},
   "source": [
    "## Make all entries uppercase\n",
    "### because there are lower and uppercase entries"
   ]
  },
  {
   "cell_type": "code",
   "execution_count": 12,
   "id": "abe7740a",
   "metadata": {},
   "outputs": [
    {
     "data": {
      "text/plain": [
       "array([nan, 'Y', 'N', 'YES', 'NO', '1', '0'], dtype=object)"
      ]
     },
     "execution_count": 12,
     "metadata": {},
     "output_type": "execute_result"
    }
   ],
   "source": [
    "df['Employed'] = df['Employed'].str.upper()\n",
    "df['Employed'].unique()"
   ]
  },
  {
   "cell_type": "markdown",
   "id": "c9c573e2",
   "metadata": {},
   "source": [
    "## Convert variations of yes and no into binary values 1 or 0 respectively"
   ]
  },
  {
   "cell_type": "code",
   "execution_count": 13,
   "id": "ee99cdce",
   "metadata": {},
   "outputs": [
    {
     "data": {
      "text/plain": [
       "array([nan, '1', '0'], dtype=object)"
      ]
     },
     "execution_count": 13,
     "metadata": {},
     "output_type": "execute_result"
    }
   ],
   "source": [
    "df['Employed'].replace({'Y' : '1', 'YES' : '1', 'N' : '0', 'NO' : '0'}, inplace = True)\n",
    "df['Employed'].unique()"
   ]
  },
  {
   "cell_type": "markdown",
   "id": "baf4d58a",
   "metadata": {},
   "source": [
    "## Reload dataframe with cleaned column"
   ]
  },
  {
   "cell_type": "code",
   "execution_count": 14,
   "id": "4517a732",
   "metadata": {
    "scrolled": true
   },
   "outputs": [
    {
     "data": {
      "text/html": [
       "<div>\n",
       "<style scoped>\n",
       "    .dataframe tbody tr th:only-of-type {\n",
       "        vertical-align: middle;\n",
       "    }\n",
       "\n",
       "    .dataframe tbody tr th {\n",
       "        vertical-align: top;\n",
       "    }\n",
       "\n",
       "    .dataframe thead th {\n",
       "        text-align: right;\n",
       "    }\n",
       "</style>\n",
       "<table border=\"1\" class=\"dataframe\">\n",
       "  <thead>\n",
       "    <tr style=\"text-align: right;\">\n",
       "      <th></th>\n",
       "      <th>Income</th>\n",
       "      <th>Area</th>\n",
       "      <th>Employed</th>\n",
       "      <th>Home Owner</th>\n",
       "      <th>Make</th>\n",
       "      <th>Model</th>\n",
       "      <th>Gender</th>\n",
       "      <th>Age</th>\n",
       "      <th>Colour</th>\n",
       "      <th>Stolen</th>\n",
       "    </tr>\n",
       "  </thead>\n",
       "  <tbody>\n",
       "    <tr>\n",
       "      <th>0</th>\n",
       "      <td>12500</td>\n",
       "      <td>URBAN</td>\n",
       "      <td>NaN</td>\n",
       "      <td>N</td>\n",
       "      <td>Toyota</td>\n",
       "      <td>Auris</td>\n",
       "      <td>F</td>\n",
       "      <td>25</td>\n",
       "      <td>Yellow</td>\n",
       "      <td>N</td>\n",
       "    </tr>\n",
       "    <tr>\n",
       "      <th>1</th>\n",
       "      <td>76300</td>\n",
       "      <td>RURAL</td>\n",
       "      <td>1</td>\n",
       "      <td>Y</td>\n",
       "      <td>BMW</td>\n",
       "      <td>3 series</td>\n",
       "      <td>Male</td>\n",
       "      <td>25</td>\n",
       "      <td>Black</td>\n",
       "      <td>Yes</td>\n",
       "    </tr>\n",
       "    <tr>\n",
       "      <th>2</th>\n",
       "      <td>52340</td>\n",
       "      <td>RURAL</td>\n",
       "      <td>0</td>\n",
       "      <td>Yes</td>\n",
       "      <td>Mercedes</td>\n",
       "      <td>C Class</td>\n",
       "      <td>F</td>\n",
       "      <td>25</td>\n",
       "      <td>Grey</td>\n",
       "      <td>1</td>\n",
       "    </tr>\n",
       "    <tr>\n",
       "      <th>3</th>\n",
       "      <td>150600</td>\n",
       "      <td>RURAL</td>\n",
       "      <td>1</td>\n",
       "      <td>Y</td>\n",
       "      <td>BMW</td>\n",
       "      <td>3 series</td>\n",
       "      <td>F</td>\n",
       "      <td>19</td>\n",
       "      <td>White</td>\n",
       "      <td>Y</td>\n",
       "    </tr>\n",
       "    <tr>\n",
       "      <th>4</th>\n",
       "      <td>50000</td>\n",
       "      <td>RURAL</td>\n",
       "      <td>1</td>\n",
       "      <td>1</td>\n",
       "      <td>Volkswagon</td>\n",
       "      <td>Golf</td>\n",
       "      <td>Male</td>\n",
       "      <td>55</td>\n",
       "      <td>Black</td>\n",
       "      <td>Yes</td>\n",
       "    </tr>\n",
       "    <tr>\n",
       "      <th>5</th>\n",
       "      <td>15000</td>\n",
       "      <td>RURAL</td>\n",
       "      <td>1</td>\n",
       "      <td>Yes</td>\n",
       "      <td>Peugeot</td>\n",
       "      <td>107</td>\n",
       "      <td>F</td>\n",
       "      <td>54</td>\n",
       "      <td>Yellow</td>\n",
       "      <td>N</td>\n",
       "    </tr>\n",
       "    <tr>\n",
       "      <th>6</th>\n",
       "      <td>6550</td>\n",
       "      <td>URBAN</td>\n",
       "      <td>1</td>\n",
       "      <td>No</td>\n",
       "      <td>Toyota</td>\n",
       "      <td>Avensis</td>\n",
       "      <td>Male</td>\n",
       "      <td>42</td>\n",
       "      <td>Red</td>\n",
       "      <td>N</td>\n",
       "    </tr>\n",
       "    <tr>\n",
       "      <th>7</th>\n",
       "      <td>75430</td>\n",
       "      <td>RURAL</td>\n",
       "      <td>1</td>\n",
       "      <td>1</td>\n",
       "      <td>BMW</td>\n",
       "      <td>3 series</td>\n",
       "      <td>F</td>\n",
       "      <td>32</td>\n",
       "      <td>Grey</td>\n",
       "      <td>Yes</td>\n",
       "    </tr>\n",
       "    <tr>\n",
       "      <th>8</th>\n",
       "      <td>54350</td>\n",
       "      <td>RURAL</td>\n",
       "      <td>0</td>\n",
       "      <td>N</td>\n",
       "      <td>Mercedes</td>\n",
       "      <td>C Class</td>\n",
       "      <td>Female</td>\n",
       "      <td>65</td>\n",
       "      <td>Black</td>\n",
       "      <td>Y</td>\n",
       "    </tr>\n",
       "    <tr>\n",
       "      <th>9</th>\n",
       "      <td>42130</td>\n",
       "      <td>URBAN</td>\n",
       "      <td>1</td>\n",
       "      <td>Y</td>\n",
       "      <td>Ford</td>\n",
       "      <td>Kia</td>\n",
       "      <td>M</td>\n",
       "      <td>28</td>\n",
       "      <td>Red</td>\n",
       "      <td>No</td>\n",
       "    </tr>\n",
       "  </tbody>\n",
       "</table>\n",
       "</div>"
      ],
      "text/plain": [
       "   Income   Area Employed Home Owner        Make     Model  Gender Age  \\\n",
       "0   12500  URBAN      NaN          N      Toyota     Auris       F  25   \n",
       "1   76300  RURAL        1          Y         BMW  3 series    Male  25   \n",
       "2   52340  RURAL        0        Yes    Mercedes   C Class       F  25   \n",
       "3  150600  RURAL        1          Y         BMW  3 series       F  19   \n",
       "4   50000  RURAL        1          1  Volkswagon      Golf    Male  55   \n",
       "5   15000  RURAL        1        Yes     Peugeot       107       F  54   \n",
       "6    6550  URBAN        1         No      Toyota   Avensis    Male  42   \n",
       "7   75430  RURAL        1          1         BMW  3 series       F  32   \n",
       "8   54350  RURAL        0          N    Mercedes   C Class  Female  65   \n",
       "9   42130  URBAN        1          Y        Ford       Kia       M  28   \n",
       "\n",
       "   Colour Stolen  \n",
       "0  Yellow      N  \n",
       "1   Black    Yes  \n",
       "2    Grey      1  \n",
       "3   White      Y  \n",
       "4   Black    Yes  \n",
       "5  Yellow      N  \n",
       "6     Red      N  \n",
       "7    Grey    Yes  \n",
       "8   Black      Y  \n",
       "9     Red     No  "
      ]
     },
     "execution_count": 14,
     "metadata": {},
     "output_type": "execute_result"
    }
   ],
   "source": [
    "df.head(10)"
   ]
  },
  {
   "cell_type": "markdown",
   "id": "86f15c50",
   "metadata": {},
   "source": [
    "# Clean: Home Owner"
   ]
  },
  {
   "cell_type": "markdown",
   "id": "14d8631c",
   "metadata": {},
   "source": [
    "## Check unique entries within HOME OWNER\n",
    "### to see what needs cleaning"
   ]
  },
  {
   "cell_type": "code",
   "execution_count": 15,
   "id": "d55c620b",
   "metadata": {},
   "outputs": [
    {
     "data": {
      "text/plain": [
       "array(['N', 'Y', 'Yes', '1', 'No', 'n', 'y', nan], dtype=object)"
      ]
     },
     "execution_count": 15,
     "metadata": {},
     "output_type": "execute_result"
    }
   ],
   "source": [
    "df['Home Owner'].unique()"
   ]
  },
  {
   "cell_type": "markdown",
   "id": "71ace09a",
   "metadata": {},
   "source": [
    "## Make all entries uppercase\n",
    "### because there are lower and uppercase entries"
   ]
  },
  {
   "cell_type": "code",
   "execution_count": 16,
   "id": "f90e35f0",
   "metadata": {},
   "outputs": [
    {
     "data": {
      "text/plain": [
       "array(['N', 'Y', 'YES', '1', 'NO', nan], dtype=object)"
      ]
     },
     "execution_count": 16,
     "metadata": {},
     "output_type": "execute_result"
    }
   ],
   "source": [
    "df['Home Owner'] = df['Home Owner'].str.upper()\n",
    "df['Home Owner'].unique()"
   ]
  },
  {
   "cell_type": "markdown",
   "id": "937e6354",
   "metadata": {},
   "source": [
    "## Convert variations of yes and no into binary values 1 or 0 respectively"
   ]
  },
  {
   "cell_type": "code",
   "execution_count": 17,
   "id": "3329618c",
   "metadata": {},
   "outputs": [
    {
     "data": {
      "text/plain": [
       "array(['0', '1', nan], dtype=object)"
      ]
     },
     "execution_count": 17,
     "metadata": {},
     "output_type": "execute_result"
    }
   ],
   "source": [
    "df['Home Owner'].replace({'Y' : '1', 'YES' : '1', 'N' : '0', 'NO' : '0'}, inplace = True)\n",
    "df['Home Owner'].unique()"
   ]
  },
  {
   "cell_type": "markdown",
   "id": "e461a3df",
   "metadata": {},
   "source": [
    "## Reload dataframe with cleaned column"
   ]
  },
  {
   "cell_type": "code",
   "execution_count": 18,
   "id": "971f0f1b",
   "metadata": {},
   "outputs": [
    {
     "data": {
      "text/html": [
       "<div>\n",
       "<style scoped>\n",
       "    .dataframe tbody tr th:only-of-type {\n",
       "        vertical-align: middle;\n",
       "    }\n",
       "\n",
       "    .dataframe tbody tr th {\n",
       "        vertical-align: top;\n",
       "    }\n",
       "\n",
       "    .dataframe thead th {\n",
       "        text-align: right;\n",
       "    }\n",
       "</style>\n",
       "<table border=\"1\" class=\"dataframe\">\n",
       "  <thead>\n",
       "    <tr style=\"text-align: right;\">\n",
       "      <th></th>\n",
       "      <th>Income</th>\n",
       "      <th>Area</th>\n",
       "      <th>Employed</th>\n",
       "      <th>Home Owner</th>\n",
       "      <th>Make</th>\n",
       "      <th>Model</th>\n",
       "      <th>Gender</th>\n",
       "      <th>Age</th>\n",
       "      <th>Colour</th>\n",
       "      <th>Stolen</th>\n",
       "    </tr>\n",
       "  </thead>\n",
       "  <tbody>\n",
       "    <tr>\n",
       "      <th>0</th>\n",
       "      <td>12500</td>\n",
       "      <td>URBAN</td>\n",
       "      <td>NaN</td>\n",
       "      <td>0</td>\n",
       "      <td>Toyota</td>\n",
       "      <td>Auris</td>\n",
       "      <td>F</td>\n",
       "      <td>25</td>\n",
       "      <td>Yellow</td>\n",
       "      <td>N</td>\n",
       "    </tr>\n",
       "    <tr>\n",
       "      <th>1</th>\n",
       "      <td>76300</td>\n",
       "      <td>RURAL</td>\n",
       "      <td>1</td>\n",
       "      <td>1</td>\n",
       "      <td>BMW</td>\n",
       "      <td>3 series</td>\n",
       "      <td>Male</td>\n",
       "      <td>25</td>\n",
       "      <td>Black</td>\n",
       "      <td>Yes</td>\n",
       "    </tr>\n",
       "    <tr>\n",
       "      <th>2</th>\n",
       "      <td>52340</td>\n",
       "      <td>RURAL</td>\n",
       "      <td>0</td>\n",
       "      <td>1</td>\n",
       "      <td>Mercedes</td>\n",
       "      <td>C Class</td>\n",
       "      <td>F</td>\n",
       "      <td>25</td>\n",
       "      <td>Grey</td>\n",
       "      <td>1</td>\n",
       "    </tr>\n",
       "    <tr>\n",
       "      <th>3</th>\n",
       "      <td>150600</td>\n",
       "      <td>RURAL</td>\n",
       "      <td>1</td>\n",
       "      <td>1</td>\n",
       "      <td>BMW</td>\n",
       "      <td>3 series</td>\n",
       "      <td>F</td>\n",
       "      <td>19</td>\n",
       "      <td>White</td>\n",
       "      <td>Y</td>\n",
       "    </tr>\n",
       "    <tr>\n",
       "      <th>4</th>\n",
       "      <td>50000</td>\n",
       "      <td>RURAL</td>\n",
       "      <td>1</td>\n",
       "      <td>1</td>\n",
       "      <td>Volkswagon</td>\n",
       "      <td>Golf</td>\n",
       "      <td>Male</td>\n",
       "      <td>55</td>\n",
       "      <td>Black</td>\n",
       "      <td>Yes</td>\n",
       "    </tr>\n",
       "    <tr>\n",
       "      <th>5</th>\n",
       "      <td>15000</td>\n",
       "      <td>RURAL</td>\n",
       "      <td>1</td>\n",
       "      <td>1</td>\n",
       "      <td>Peugeot</td>\n",
       "      <td>107</td>\n",
       "      <td>F</td>\n",
       "      <td>54</td>\n",
       "      <td>Yellow</td>\n",
       "      <td>N</td>\n",
       "    </tr>\n",
       "    <tr>\n",
       "      <th>6</th>\n",
       "      <td>6550</td>\n",
       "      <td>URBAN</td>\n",
       "      <td>1</td>\n",
       "      <td>0</td>\n",
       "      <td>Toyota</td>\n",
       "      <td>Avensis</td>\n",
       "      <td>Male</td>\n",
       "      <td>42</td>\n",
       "      <td>Red</td>\n",
       "      <td>N</td>\n",
       "    </tr>\n",
       "    <tr>\n",
       "      <th>7</th>\n",
       "      <td>75430</td>\n",
       "      <td>RURAL</td>\n",
       "      <td>1</td>\n",
       "      <td>1</td>\n",
       "      <td>BMW</td>\n",
       "      <td>3 series</td>\n",
       "      <td>F</td>\n",
       "      <td>32</td>\n",
       "      <td>Grey</td>\n",
       "      <td>Yes</td>\n",
       "    </tr>\n",
       "    <tr>\n",
       "      <th>8</th>\n",
       "      <td>54350</td>\n",
       "      <td>RURAL</td>\n",
       "      <td>0</td>\n",
       "      <td>0</td>\n",
       "      <td>Mercedes</td>\n",
       "      <td>C Class</td>\n",
       "      <td>Female</td>\n",
       "      <td>65</td>\n",
       "      <td>Black</td>\n",
       "      <td>Y</td>\n",
       "    </tr>\n",
       "    <tr>\n",
       "      <th>9</th>\n",
       "      <td>42130</td>\n",
       "      <td>URBAN</td>\n",
       "      <td>1</td>\n",
       "      <td>1</td>\n",
       "      <td>Ford</td>\n",
       "      <td>Kia</td>\n",
       "      <td>M</td>\n",
       "      <td>28</td>\n",
       "      <td>Red</td>\n",
       "      <td>No</td>\n",
       "    </tr>\n",
       "  </tbody>\n",
       "</table>\n",
       "</div>"
      ],
      "text/plain": [
       "   Income   Area Employed Home Owner        Make     Model  Gender Age  \\\n",
       "0   12500  URBAN      NaN          0      Toyota     Auris       F  25   \n",
       "1   76300  RURAL        1          1         BMW  3 series    Male  25   \n",
       "2   52340  RURAL        0          1    Mercedes   C Class       F  25   \n",
       "3  150600  RURAL        1          1         BMW  3 series       F  19   \n",
       "4   50000  RURAL        1          1  Volkswagon      Golf    Male  55   \n",
       "5   15000  RURAL        1          1     Peugeot       107       F  54   \n",
       "6    6550  URBAN        1          0      Toyota   Avensis    Male  42   \n",
       "7   75430  RURAL        1          1         BMW  3 series       F  32   \n",
       "8   54350  RURAL        0          0    Mercedes   C Class  Female  65   \n",
       "9   42130  URBAN        1          1        Ford       Kia       M  28   \n",
       "\n",
       "   Colour Stolen  \n",
       "0  Yellow      N  \n",
       "1   Black    Yes  \n",
       "2    Grey      1  \n",
       "3   White      Y  \n",
       "4   Black    Yes  \n",
       "5  Yellow      N  \n",
       "6     Red      N  \n",
       "7    Grey    Yes  \n",
       "8   Black      Y  \n",
       "9     Red     No  "
      ]
     },
     "execution_count": 18,
     "metadata": {},
     "output_type": "execute_result"
    }
   ],
   "source": [
    "df.head(10)"
   ]
  },
  {
   "cell_type": "markdown",
   "id": "1723696c",
   "metadata": {},
   "source": [
    "# Clean: Make"
   ]
  },
  {
   "cell_type": "markdown",
   "id": "473d9487",
   "metadata": {},
   "source": [
    "## Check unique entries within Make\n",
    "### to see what needs cleaning"
   ]
  },
  {
   "cell_type": "code",
   "execution_count": 19,
   "id": "2ac714b2",
   "metadata": {},
   "outputs": [
    {
     "data": {
      "text/plain": [
       "array(['Toyota', 'BMW', 'Mercedes', 'Volkswagon', 'Peugeot', 'Ford',\n",
       "       'Merecedes', 'Audi', 'Seat', 'Fiat', 'Citroen'], dtype=object)"
      ]
     },
     "execution_count": 19,
     "metadata": {},
     "output_type": "execute_result"
    }
   ],
   "source": [
    "df['Make'].unique()"
   ]
  },
  {
   "cell_type": "markdown",
   "id": "4c2e6eae",
   "metadata": {},
   "source": [
    "## Make all entries uppercase"
   ]
  },
  {
   "cell_type": "code",
   "execution_count": 20,
   "id": "69e7e748",
   "metadata": {},
   "outputs": [
    {
     "data": {
      "text/plain": [
       "array(['TOYOTA', 'BMW', 'MERCEDES', 'VOLKSWAGON', 'PEUGEOT', 'FORD',\n",
       "       'MERECEDES', 'AUDI', 'SEAT', 'FIAT', 'CITROEN'], dtype=object)"
      ]
     },
     "execution_count": 20,
     "metadata": {},
     "output_type": "execute_result"
    }
   ],
   "source": [
    "df['Make'] = df['Make'].str.upper()\n",
    "df['Make'].unique()"
   ]
  },
  {
   "cell_type": "markdown",
   "id": "2a346f77",
   "metadata": {},
   "source": [
    "## Fix double entries"
   ]
  },
  {
   "cell_type": "code",
   "execution_count": 21,
   "id": "3c7c708f",
   "metadata": {},
   "outputs": [
    {
     "data": {
      "text/plain": [
       "array(['TOYOTA', 'BMW', 'MERCEDES', 'VOLKSWAGON', 'PEUGEOT', 'FORD',\n",
       "       'AUDI', 'SEAT', 'FIAT', 'CITROEN'], dtype=object)"
      ]
     },
     "execution_count": 21,
     "metadata": {},
     "output_type": "execute_result"
    }
   ],
   "source": [
    "df['Make'].replace({'MERECEDES' : 'MERCEDES'}, inplace = True)\n",
    "df['Make'].unique()"
   ]
  },
  {
   "cell_type": "markdown",
   "id": "00e90162",
   "metadata": {},
   "source": [
    "## Reload dataframe with cleaned column"
   ]
  },
  {
   "cell_type": "code",
   "execution_count": 22,
   "id": "e151de2b",
   "metadata": {},
   "outputs": [
    {
     "data": {
      "text/html": [
       "<div>\n",
       "<style scoped>\n",
       "    .dataframe tbody tr th:only-of-type {\n",
       "        vertical-align: middle;\n",
       "    }\n",
       "\n",
       "    .dataframe tbody tr th {\n",
       "        vertical-align: top;\n",
       "    }\n",
       "\n",
       "    .dataframe thead th {\n",
       "        text-align: right;\n",
       "    }\n",
       "</style>\n",
       "<table border=\"1\" class=\"dataframe\">\n",
       "  <thead>\n",
       "    <tr style=\"text-align: right;\">\n",
       "      <th></th>\n",
       "      <th>Income</th>\n",
       "      <th>Area</th>\n",
       "      <th>Employed</th>\n",
       "      <th>Home Owner</th>\n",
       "      <th>Make</th>\n",
       "      <th>Model</th>\n",
       "      <th>Gender</th>\n",
       "      <th>Age</th>\n",
       "      <th>Colour</th>\n",
       "      <th>Stolen</th>\n",
       "    </tr>\n",
       "  </thead>\n",
       "  <tbody>\n",
       "    <tr>\n",
       "      <th>0</th>\n",
       "      <td>12500</td>\n",
       "      <td>URBAN</td>\n",
       "      <td>NaN</td>\n",
       "      <td>0</td>\n",
       "      <td>TOYOTA</td>\n",
       "      <td>Auris</td>\n",
       "      <td>F</td>\n",
       "      <td>25</td>\n",
       "      <td>Yellow</td>\n",
       "      <td>N</td>\n",
       "    </tr>\n",
       "    <tr>\n",
       "      <th>1</th>\n",
       "      <td>76300</td>\n",
       "      <td>RURAL</td>\n",
       "      <td>1</td>\n",
       "      <td>1</td>\n",
       "      <td>BMW</td>\n",
       "      <td>3 series</td>\n",
       "      <td>Male</td>\n",
       "      <td>25</td>\n",
       "      <td>Black</td>\n",
       "      <td>Yes</td>\n",
       "    </tr>\n",
       "    <tr>\n",
       "      <th>2</th>\n",
       "      <td>52340</td>\n",
       "      <td>RURAL</td>\n",
       "      <td>0</td>\n",
       "      <td>1</td>\n",
       "      <td>MERCEDES</td>\n",
       "      <td>C Class</td>\n",
       "      <td>F</td>\n",
       "      <td>25</td>\n",
       "      <td>Grey</td>\n",
       "      <td>1</td>\n",
       "    </tr>\n",
       "    <tr>\n",
       "      <th>3</th>\n",
       "      <td>150600</td>\n",
       "      <td>RURAL</td>\n",
       "      <td>1</td>\n",
       "      <td>1</td>\n",
       "      <td>BMW</td>\n",
       "      <td>3 series</td>\n",
       "      <td>F</td>\n",
       "      <td>19</td>\n",
       "      <td>White</td>\n",
       "      <td>Y</td>\n",
       "    </tr>\n",
       "    <tr>\n",
       "      <th>4</th>\n",
       "      <td>50000</td>\n",
       "      <td>RURAL</td>\n",
       "      <td>1</td>\n",
       "      <td>1</td>\n",
       "      <td>VOLKSWAGON</td>\n",
       "      <td>Golf</td>\n",
       "      <td>Male</td>\n",
       "      <td>55</td>\n",
       "      <td>Black</td>\n",
       "      <td>Yes</td>\n",
       "    </tr>\n",
       "    <tr>\n",
       "      <th>5</th>\n",
       "      <td>15000</td>\n",
       "      <td>RURAL</td>\n",
       "      <td>1</td>\n",
       "      <td>1</td>\n",
       "      <td>PEUGEOT</td>\n",
       "      <td>107</td>\n",
       "      <td>F</td>\n",
       "      <td>54</td>\n",
       "      <td>Yellow</td>\n",
       "      <td>N</td>\n",
       "    </tr>\n",
       "    <tr>\n",
       "      <th>6</th>\n",
       "      <td>6550</td>\n",
       "      <td>URBAN</td>\n",
       "      <td>1</td>\n",
       "      <td>0</td>\n",
       "      <td>TOYOTA</td>\n",
       "      <td>Avensis</td>\n",
       "      <td>Male</td>\n",
       "      <td>42</td>\n",
       "      <td>Red</td>\n",
       "      <td>N</td>\n",
       "    </tr>\n",
       "    <tr>\n",
       "      <th>7</th>\n",
       "      <td>75430</td>\n",
       "      <td>RURAL</td>\n",
       "      <td>1</td>\n",
       "      <td>1</td>\n",
       "      <td>BMW</td>\n",
       "      <td>3 series</td>\n",
       "      <td>F</td>\n",
       "      <td>32</td>\n",
       "      <td>Grey</td>\n",
       "      <td>Yes</td>\n",
       "    </tr>\n",
       "    <tr>\n",
       "      <th>8</th>\n",
       "      <td>54350</td>\n",
       "      <td>RURAL</td>\n",
       "      <td>0</td>\n",
       "      <td>0</td>\n",
       "      <td>MERCEDES</td>\n",
       "      <td>C Class</td>\n",
       "      <td>Female</td>\n",
       "      <td>65</td>\n",
       "      <td>Black</td>\n",
       "      <td>Y</td>\n",
       "    </tr>\n",
       "    <tr>\n",
       "      <th>9</th>\n",
       "      <td>42130</td>\n",
       "      <td>URBAN</td>\n",
       "      <td>1</td>\n",
       "      <td>1</td>\n",
       "      <td>FORD</td>\n",
       "      <td>Kia</td>\n",
       "      <td>M</td>\n",
       "      <td>28</td>\n",
       "      <td>Red</td>\n",
       "      <td>No</td>\n",
       "    </tr>\n",
       "  </tbody>\n",
       "</table>\n",
       "</div>"
      ],
      "text/plain": [
       "   Income   Area Employed Home Owner        Make     Model  Gender Age  \\\n",
       "0   12500  URBAN      NaN          0      TOYOTA     Auris       F  25   \n",
       "1   76300  RURAL        1          1         BMW  3 series    Male  25   \n",
       "2   52340  RURAL        0          1    MERCEDES   C Class       F  25   \n",
       "3  150600  RURAL        1          1         BMW  3 series       F  19   \n",
       "4   50000  RURAL        1          1  VOLKSWAGON      Golf    Male  55   \n",
       "5   15000  RURAL        1          1     PEUGEOT       107       F  54   \n",
       "6    6550  URBAN        1          0      TOYOTA   Avensis    Male  42   \n",
       "7   75430  RURAL        1          1         BMW  3 series       F  32   \n",
       "8   54350  RURAL        0          0    MERCEDES   C Class  Female  65   \n",
       "9   42130  URBAN        1          1        FORD       Kia       M  28   \n",
       "\n",
       "   Colour Stolen  \n",
       "0  Yellow      N  \n",
       "1   Black    Yes  \n",
       "2    Grey      1  \n",
       "3   White      Y  \n",
       "4   Black    Yes  \n",
       "5  Yellow      N  \n",
       "6     Red      N  \n",
       "7    Grey    Yes  \n",
       "8   Black      Y  \n",
       "9     Red     No  "
      ]
     },
     "execution_count": 22,
     "metadata": {},
     "output_type": "execute_result"
    }
   ],
   "source": [
    "df.head(10)"
   ]
  },
  {
   "cell_type": "markdown",
   "id": "71d48e42",
   "metadata": {},
   "source": [
    "# Clean: Model"
   ]
  },
  {
   "cell_type": "markdown",
   "id": "551035c9",
   "metadata": {},
   "source": [
    "## Check unique entries within MODEL\n",
    "### to see what needs cleaning"
   ]
  },
  {
   "cell_type": "code",
   "execution_count": 23,
   "id": "48ba327a",
   "metadata": {},
   "outputs": [
    {
     "data": {
      "text/plain": [
       "array(['Auris', '3 series', 'C Class', 'Golf', '107', 'Avensis', 'Kia',\n",
       "       '1 series', '3 Series', '207', 'Prius', 'Corolla', 'A  Class',\n",
       "       'A4', 'X5', 'RS3', '2 Series', 'A3', 'Leon', 'Aygo', 'A1', 'Punto',\n",
       "       'C1', 'A7', nan, 'Polo', '307'], dtype=object)"
      ]
     },
     "execution_count": 23,
     "metadata": {},
     "output_type": "execute_result"
    }
   ],
   "source": [
    "df['Model'].unique()"
   ]
  },
  {
   "cell_type": "markdown",
   "id": "e938968a",
   "metadata": {},
   "source": [
    "## This column contains both floats and strings\n",
    "## Instead, treat all entries as strings and sort into alphabetical order"
   ]
  },
  {
   "cell_type": "code",
   "execution_count": 24,
   "id": "713fa86c",
   "metadata": {},
   "outputs": [
    {
     "data": {
      "text/plain": [
       "['1 series',\n",
       " '107',\n",
       " '2 Series',\n",
       " '207',\n",
       " '3 Series',\n",
       " '3 series',\n",
       " '307',\n",
       " 'A  Class',\n",
       " 'A1',\n",
       " 'A3',\n",
       " 'A4',\n",
       " 'A7',\n",
       " 'Auris',\n",
       " 'Avensis',\n",
       " 'Aygo',\n",
       " 'C Class',\n",
       " 'C1',\n",
       " 'Corolla',\n",
       " 'Golf',\n",
       " 'Kia',\n",
       " 'Leon',\n",
       " 'Polo',\n",
       " 'Prius',\n",
       " 'Punto',\n",
       " 'RS3',\n",
       " 'X5',\n",
       " 'nan']"
      ]
     },
     "execution_count": 24,
     "metadata": {},
     "output_type": "execute_result"
    }
   ],
   "source": [
    "sorted(df['Model'].astype(str).unique())"
   ]
  },
  {
   "cell_type": "markdown",
   "id": "2277bb17",
   "metadata": {},
   "source": [
    "## Treat all as strings, and convert to uppercase to remove duplicate entries"
   ]
  },
  {
   "cell_type": "code",
   "execution_count": 25,
   "id": "c7b8aeed",
   "metadata": {},
   "outputs": [
    {
     "data": {
      "text/plain": [
       "array(['AURIS', '3 SERIES', 'C CLASS', 'GOLF', '107', 'AVENSIS', 'KIA',\n",
       "       '1 SERIES', '207', 'PRIUS', 'COROLLA', 'A  CLASS', 'A4', 'X5',\n",
       "       'RS3', '2 SERIES', 'A3', 'LEON', 'AYGO', 'A1', 'PUNTO', 'C1', 'A7',\n",
       "       'nan', 'POLO', '307'], dtype=object)"
      ]
     },
     "execution_count": 25,
     "metadata": {},
     "output_type": "execute_result"
    }
   ],
   "source": [
    "(df['Model'].str.upper()).astype(str).unique()"
   ]
  },
  {
   "cell_type": "markdown",
   "id": "ecc1f600",
   "metadata": {},
   "source": [
    "## Update the table entries"
   ]
  },
  {
   "cell_type": "code",
   "execution_count": 26,
   "id": "85f03e29",
   "metadata": {},
   "outputs": [],
   "source": [
    "df['Model'] = df['Model'].str.upper()"
   ]
  },
  {
   "cell_type": "markdown",
   "id": "9bb5d63b",
   "metadata": {},
   "source": [
    "## Reload dataframe with cleaned column"
   ]
  },
  {
   "cell_type": "code",
   "execution_count": 27,
   "id": "4d5a5ab8",
   "metadata": {},
   "outputs": [
    {
     "data": {
      "text/html": [
       "<div>\n",
       "<style scoped>\n",
       "    .dataframe tbody tr th:only-of-type {\n",
       "        vertical-align: middle;\n",
       "    }\n",
       "\n",
       "    .dataframe tbody tr th {\n",
       "        vertical-align: top;\n",
       "    }\n",
       "\n",
       "    .dataframe thead th {\n",
       "        text-align: right;\n",
       "    }\n",
       "</style>\n",
       "<table border=\"1\" class=\"dataframe\">\n",
       "  <thead>\n",
       "    <tr style=\"text-align: right;\">\n",
       "      <th></th>\n",
       "      <th>Income</th>\n",
       "      <th>Area</th>\n",
       "      <th>Employed</th>\n",
       "      <th>Home Owner</th>\n",
       "      <th>Make</th>\n",
       "      <th>Model</th>\n",
       "      <th>Gender</th>\n",
       "      <th>Age</th>\n",
       "      <th>Colour</th>\n",
       "      <th>Stolen</th>\n",
       "    </tr>\n",
       "  </thead>\n",
       "  <tbody>\n",
       "    <tr>\n",
       "      <th>0</th>\n",
       "      <td>12500</td>\n",
       "      <td>URBAN</td>\n",
       "      <td>NaN</td>\n",
       "      <td>0</td>\n",
       "      <td>TOYOTA</td>\n",
       "      <td>AURIS</td>\n",
       "      <td>F</td>\n",
       "      <td>25</td>\n",
       "      <td>Yellow</td>\n",
       "      <td>N</td>\n",
       "    </tr>\n",
       "    <tr>\n",
       "      <th>1</th>\n",
       "      <td>76300</td>\n",
       "      <td>RURAL</td>\n",
       "      <td>1</td>\n",
       "      <td>1</td>\n",
       "      <td>BMW</td>\n",
       "      <td>3 SERIES</td>\n",
       "      <td>Male</td>\n",
       "      <td>25</td>\n",
       "      <td>Black</td>\n",
       "      <td>Yes</td>\n",
       "    </tr>\n",
       "    <tr>\n",
       "      <th>2</th>\n",
       "      <td>52340</td>\n",
       "      <td>RURAL</td>\n",
       "      <td>0</td>\n",
       "      <td>1</td>\n",
       "      <td>MERCEDES</td>\n",
       "      <td>C CLASS</td>\n",
       "      <td>F</td>\n",
       "      <td>25</td>\n",
       "      <td>Grey</td>\n",
       "      <td>1</td>\n",
       "    </tr>\n",
       "    <tr>\n",
       "      <th>3</th>\n",
       "      <td>150600</td>\n",
       "      <td>RURAL</td>\n",
       "      <td>1</td>\n",
       "      <td>1</td>\n",
       "      <td>BMW</td>\n",
       "      <td>3 SERIES</td>\n",
       "      <td>F</td>\n",
       "      <td>19</td>\n",
       "      <td>White</td>\n",
       "      <td>Y</td>\n",
       "    </tr>\n",
       "    <tr>\n",
       "      <th>4</th>\n",
       "      <td>50000</td>\n",
       "      <td>RURAL</td>\n",
       "      <td>1</td>\n",
       "      <td>1</td>\n",
       "      <td>VOLKSWAGON</td>\n",
       "      <td>GOLF</td>\n",
       "      <td>Male</td>\n",
       "      <td>55</td>\n",
       "      <td>Black</td>\n",
       "      <td>Yes</td>\n",
       "    </tr>\n",
       "    <tr>\n",
       "      <th>5</th>\n",
       "      <td>15000</td>\n",
       "      <td>RURAL</td>\n",
       "      <td>1</td>\n",
       "      <td>1</td>\n",
       "      <td>PEUGEOT</td>\n",
       "      <td>107</td>\n",
       "      <td>F</td>\n",
       "      <td>54</td>\n",
       "      <td>Yellow</td>\n",
       "      <td>N</td>\n",
       "    </tr>\n",
       "    <tr>\n",
       "      <th>6</th>\n",
       "      <td>6550</td>\n",
       "      <td>URBAN</td>\n",
       "      <td>1</td>\n",
       "      <td>0</td>\n",
       "      <td>TOYOTA</td>\n",
       "      <td>AVENSIS</td>\n",
       "      <td>Male</td>\n",
       "      <td>42</td>\n",
       "      <td>Red</td>\n",
       "      <td>N</td>\n",
       "    </tr>\n",
       "    <tr>\n",
       "      <th>7</th>\n",
       "      <td>75430</td>\n",
       "      <td>RURAL</td>\n",
       "      <td>1</td>\n",
       "      <td>1</td>\n",
       "      <td>BMW</td>\n",
       "      <td>3 SERIES</td>\n",
       "      <td>F</td>\n",
       "      <td>32</td>\n",
       "      <td>Grey</td>\n",
       "      <td>Yes</td>\n",
       "    </tr>\n",
       "    <tr>\n",
       "      <th>8</th>\n",
       "      <td>54350</td>\n",
       "      <td>RURAL</td>\n",
       "      <td>0</td>\n",
       "      <td>0</td>\n",
       "      <td>MERCEDES</td>\n",
       "      <td>C CLASS</td>\n",
       "      <td>Female</td>\n",
       "      <td>65</td>\n",
       "      <td>Black</td>\n",
       "      <td>Y</td>\n",
       "    </tr>\n",
       "    <tr>\n",
       "      <th>9</th>\n",
       "      <td>42130</td>\n",
       "      <td>URBAN</td>\n",
       "      <td>1</td>\n",
       "      <td>1</td>\n",
       "      <td>FORD</td>\n",
       "      <td>KIA</td>\n",
       "      <td>M</td>\n",
       "      <td>28</td>\n",
       "      <td>Red</td>\n",
       "      <td>No</td>\n",
       "    </tr>\n",
       "  </tbody>\n",
       "</table>\n",
       "</div>"
      ],
      "text/plain": [
       "   Income   Area Employed Home Owner        Make     Model  Gender Age  \\\n",
       "0   12500  URBAN      NaN          0      TOYOTA     AURIS       F  25   \n",
       "1   76300  RURAL        1          1         BMW  3 SERIES    Male  25   \n",
       "2   52340  RURAL        0          1    MERCEDES   C CLASS       F  25   \n",
       "3  150600  RURAL        1          1         BMW  3 SERIES       F  19   \n",
       "4   50000  RURAL        1          1  VOLKSWAGON      GOLF    Male  55   \n",
       "5   15000  RURAL        1          1     PEUGEOT       107       F  54   \n",
       "6    6550  URBAN        1          0      TOYOTA   AVENSIS    Male  42   \n",
       "7   75430  RURAL        1          1         BMW  3 SERIES       F  32   \n",
       "8   54350  RURAL        0          0    MERCEDES   C CLASS  Female  65   \n",
       "9   42130  URBAN        1          1        FORD       KIA       M  28   \n",
       "\n",
       "   Colour Stolen  \n",
       "0  Yellow      N  \n",
       "1   Black    Yes  \n",
       "2    Grey      1  \n",
       "3   White      Y  \n",
       "4   Black    Yes  \n",
       "5  Yellow      N  \n",
       "6     Red      N  \n",
       "7    Grey    Yes  \n",
       "8   Black      Y  \n",
       "9     Red     No  "
      ]
     },
     "execution_count": 27,
     "metadata": {},
     "output_type": "execute_result"
    }
   ],
   "source": [
    "df.head(10)"
   ]
  },
  {
   "cell_type": "markdown",
   "id": "8609340e",
   "metadata": {},
   "source": [
    "# Clean: Gender"
   ]
  },
  {
   "cell_type": "markdown",
   "id": "ff3b394e",
   "metadata": {},
   "source": [
    "## Check unique entries within Gender\n",
    "### to see what needs cleaning"
   ]
  },
  {
   "cell_type": "code",
   "execution_count": 28,
   "id": "47955f25",
   "metadata": {},
   "outputs": [
    {
     "data": {
      "text/plain": [
       "array(['F', 'Male', 'Female', 'M', 'PNS'], dtype=object)"
      ]
     },
     "execution_count": 28,
     "metadata": {},
     "output_type": "execute_result"
    }
   ],
   "source": [
    "df['Gender'].unique()"
   ]
  },
  {
   "cell_type": "markdown",
   "id": "cc4660f0",
   "metadata": {},
   "source": [
    "## Convert Female to 0, Male to 1 and PNS to 2"
   ]
  },
  {
   "cell_type": "code",
   "execution_count": 29,
   "id": "c5712c69",
   "metadata": {},
   "outputs": [
    {
     "data": {
      "text/plain": [
       "array(['0', '1', '2'], dtype=object)"
      ]
     },
     "execution_count": 29,
     "metadata": {},
     "output_type": "execute_result"
    }
   ],
   "source": [
    "df['Gender'].replace({'Male' : '1', 'M' : '1', 'Female' : '0', 'F' : '0', 'PNS' : '2'}, inplace = True)\n",
    "df['Gender'].unique()"
   ]
  },
  {
   "cell_type": "code",
   "execution_count": 30,
   "id": "747827af",
   "metadata": {},
   "outputs": [
    {
     "data": {
      "text/html": [
       "<div>\n",
       "<style scoped>\n",
       "    .dataframe tbody tr th:only-of-type {\n",
       "        vertical-align: middle;\n",
       "    }\n",
       "\n",
       "    .dataframe tbody tr th {\n",
       "        vertical-align: top;\n",
       "    }\n",
       "\n",
       "    .dataframe thead th {\n",
       "        text-align: right;\n",
       "    }\n",
       "</style>\n",
       "<table border=\"1\" class=\"dataframe\">\n",
       "  <thead>\n",
       "    <tr style=\"text-align: right;\">\n",
       "      <th></th>\n",
       "      <th>Income</th>\n",
       "      <th>Area</th>\n",
       "      <th>Employed</th>\n",
       "      <th>Home Owner</th>\n",
       "      <th>Make</th>\n",
       "      <th>Model</th>\n",
       "      <th>Gender</th>\n",
       "      <th>Age</th>\n",
       "      <th>Colour</th>\n",
       "      <th>Stolen</th>\n",
       "    </tr>\n",
       "  </thead>\n",
       "  <tbody>\n",
       "    <tr>\n",
       "      <th>0</th>\n",
       "      <td>12500</td>\n",
       "      <td>URBAN</td>\n",
       "      <td>NaN</td>\n",
       "      <td>0</td>\n",
       "      <td>TOYOTA</td>\n",
       "      <td>AURIS</td>\n",
       "      <td>0</td>\n",
       "      <td>25</td>\n",
       "      <td>Yellow</td>\n",
       "      <td>N</td>\n",
       "    </tr>\n",
       "    <tr>\n",
       "      <th>1</th>\n",
       "      <td>76300</td>\n",
       "      <td>RURAL</td>\n",
       "      <td>1</td>\n",
       "      <td>1</td>\n",
       "      <td>BMW</td>\n",
       "      <td>3 SERIES</td>\n",
       "      <td>1</td>\n",
       "      <td>25</td>\n",
       "      <td>Black</td>\n",
       "      <td>Yes</td>\n",
       "    </tr>\n",
       "    <tr>\n",
       "      <th>2</th>\n",
       "      <td>52340</td>\n",
       "      <td>RURAL</td>\n",
       "      <td>0</td>\n",
       "      <td>1</td>\n",
       "      <td>MERCEDES</td>\n",
       "      <td>C CLASS</td>\n",
       "      <td>0</td>\n",
       "      <td>25</td>\n",
       "      <td>Grey</td>\n",
       "      <td>1</td>\n",
       "    </tr>\n",
       "    <tr>\n",
       "      <th>3</th>\n",
       "      <td>150600</td>\n",
       "      <td>RURAL</td>\n",
       "      <td>1</td>\n",
       "      <td>1</td>\n",
       "      <td>BMW</td>\n",
       "      <td>3 SERIES</td>\n",
       "      <td>0</td>\n",
       "      <td>19</td>\n",
       "      <td>White</td>\n",
       "      <td>Y</td>\n",
       "    </tr>\n",
       "    <tr>\n",
       "      <th>4</th>\n",
       "      <td>50000</td>\n",
       "      <td>RURAL</td>\n",
       "      <td>1</td>\n",
       "      <td>1</td>\n",
       "      <td>VOLKSWAGON</td>\n",
       "      <td>GOLF</td>\n",
       "      <td>1</td>\n",
       "      <td>55</td>\n",
       "      <td>Black</td>\n",
       "      <td>Yes</td>\n",
       "    </tr>\n",
       "    <tr>\n",
       "      <th>5</th>\n",
       "      <td>15000</td>\n",
       "      <td>RURAL</td>\n",
       "      <td>1</td>\n",
       "      <td>1</td>\n",
       "      <td>PEUGEOT</td>\n",
       "      <td>107</td>\n",
       "      <td>0</td>\n",
       "      <td>54</td>\n",
       "      <td>Yellow</td>\n",
       "      <td>N</td>\n",
       "    </tr>\n",
       "    <tr>\n",
       "      <th>6</th>\n",
       "      <td>6550</td>\n",
       "      <td>URBAN</td>\n",
       "      <td>1</td>\n",
       "      <td>0</td>\n",
       "      <td>TOYOTA</td>\n",
       "      <td>AVENSIS</td>\n",
       "      <td>1</td>\n",
       "      <td>42</td>\n",
       "      <td>Red</td>\n",
       "      <td>N</td>\n",
       "    </tr>\n",
       "    <tr>\n",
       "      <th>7</th>\n",
       "      <td>75430</td>\n",
       "      <td>RURAL</td>\n",
       "      <td>1</td>\n",
       "      <td>1</td>\n",
       "      <td>BMW</td>\n",
       "      <td>3 SERIES</td>\n",
       "      <td>0</td>\n",
       "      <td>32</td>\n",
       "      <td>Grey</td>\n",
       "      <td>Yes</td>\n",
       "    </tr>\n",
       "    <tr>\n",
       "      <th>8</th>\n",
       "      <td>54350</td>\n",
       "      <td>RURAL</td>\n",
       "      <td>0</td>\n",
       "      <td>0</td>\n",
       "      <td>MERCEDES</td>\n",
       "      <td>C CLASS</td>\n",
       "      <td>0</td>\n",
       "      <td>65</td>\n",
       "      <td>Black</td>\n",
       "      <td>Y</td>\n",
       "    </tr>\n",
       "    <tr>\n",
       "      <th>9</th>\n",
       "      <td>42130</td>\n",
       "      <td>URBAN</td>\n",
       "      <td>1</td>\n",
       "      <td>1</td>\n",
       "      <td>FORD</td>\n",
       "      <td>KIA</td>\n",
       "      <td>1</td>\n",
       "      <td>28</td>\n",
       "      <td>Red</td>\n",
       "      <td>No</td>\n",
       "    </tr>\n",
       "  </tbody>\n",
       "</table>\n",
       "</div>"
      ],
      "text/plain": [
       "   Income   Area Employed Home Owner        Make     Model Gender Age  Colour  \\\n",
       "0   12500  URBAN      NaN          0      TOYOTA     AURIS      0  25  Yellow   \n",
       "1   76300  RURAL        1          1         BMW  3 SERIES      1  25   Black   \n",
       "2   52340  RURAL        0          1    MERCEDES   C CLASS      0  25    Grey   \n",
       "3  150600  RURAL        1          1         BMW  3 SERIES      0  19   White   \n",
       "4   50000  RURAL        1          1  VOLKSWAGON      GOLF      1  55   Black   \n",
       "5   15000  RURAL        1          1     PEUGEOT       107      0  54  Yellow   \n",
       "6    6550  URBAN        1          0      TOYOTA   AVENSIS      1  42     Red   \n",
       "7   75430  RURAL        1          1         BMW  3 SERIES      0  32    Grey   \n",
       "8   54350  RURAL        0          0    MERCEDES   C CLASS      0  65   Black   \n",
       "9   42130  URBAN        1          1        FORD       KIA      1  28     Red   \n",
       "\n",
       "  Stolen  \n",
       "0      N  \n",
       "1    Yes  \n",
       "2      1  \n",
       "3      Y  \n",
       "4    Yes  \n",
       "5      N  \n",
       "6      N  \n",
       "7    Yes  \n",
       "8      Y  \n",
       "9     No  "
      ]
     },
     "execution_count": 30,
     "metadata": {},
     "output_type": "execute_result"
    }
   ],
   "source": [
    "df.head(10)"
   ]
  },
  {
   "cell_type": "markdown",
   "id": "780ab662",
   "metadata": {},
   "source": [
    "# Clean: Age"
   ]
  },
  {
   "cell_type": "markdown",
   "id": "31436dc8",
   "metadata": {},
   "source": [
    "## Check unique entries within Age\n",
    "### to see what needs cleaning"
   ]
  },
  {
   "cell_type": "code",
   "execution_count": 31,
   "id": "d0d9c824",
   "metadata": {},
   "outputs": [
    {
     "data": {
      "text/plain": [
       "array(['25', '19', '55', '54', '42', '32', '65', '28', '29', '41', '34',\n",
       "       '45', '23', '43', '33', '52', '26', '27', '21', '37', '53', '24',\n",
       "       '36', '35', '18', '46', nan], dtype=object)"
      ]
     },
     "execution_count": 31,
     "metadata": {},
     "output_type": "execute_result"
    }
   ],
   "source": [
    "(df['Age']).unique()"
   ]
  },
  {
   "cell_type": "markdown",
   "id": "8a4297cb",
   "metadata": {},
   "source": [
    "## Reload dataframe"
   ]
  },
  {
   "cell_type": "code",
   "execution_count": 32,
   "id": "caf6f6dd",
   "metadata": {},
   "outputs": [
    {
     "data": {
      "text/html": [
       "<div>\n",
       "<style scoped>\n",
       "    .dataframe tbody tr th:only-of-type {\n",
       "        vertical-align: middle;\n",
       "    }\n",
       "\n",
       "    .dataframe tbody tr th {\n",
       "        vertical-align: top;\n",
       "    }\n",
       "\n",
       "    .dataframe thead th {\n",
       "        text-align: right;\n",
       "    }\n",
       "</style>\n",
       "<table border=\"1\" class=\"dataframe\">\n",
       "  <thead>\n",
       "    <tr style=\"text-align: right;\">\n",
       "      <th></th>\n",
       "      <th>Income</th>\n",
       "      <th>Area</th>\n",
       "      <th>Employed</th>\n",
       "      <th>Home Owner</th>\n",
       "      <th>Make</th>\n",
       "      <th>Model</th>\n",
       "      <th>Gender</th>\n",
       "      <th>Age</th>\n",
       "      <th>Colour</th>\n",
       "      <th>Stolen</th>\n",
       "    </tr>\n",
       "  </thead>\n",
       "  <tbody>\n",
       "    <tr>\n",
       "      <th>0</th>\n",
       "      <td>12500</td>\n",
       "      <td>URBAN</td>\n",
       "      <td>NaN</td>\n",
       "      <td>0</td>\n",
       "      <td>TOYOTA</td>\n",
       "      <td>AURIS</td>\n",
       "      <td>0</td>\n",
       "      <td>25</td>\n",
       "      <td>Yellow</td>\n",
       "      <td>N</td>\n",
       "    </tr>\n",
       "    <tr>\n",
       "      <th>1</th>\n",
       "      <td>76300</td>\n",
       "      <td>RURAL</td>\n",
       "      <td>1</td>\n",
       "      <td>1</td>\n",
       "      <td>BMW</td>\n",
       "      <td>3 SERIES</td>\n",
       "      <td>1</td>\n",
       "      <td>25</td>\n",
       "      <td>Black</td>\n",
       "      <td>Yes</td>\n",
       "    </tr>\n",
       "    <tr>\n",
       "      <th>2</th>\n",
       "      <td>52340</td>\n",
       "      <td>RURAL</td>\n",
       "      <td>0</td>\n",
       "      <td>1</td>\n",
       "      <td>MERCEDES</td>\n",
       "      <td>C CLASS</td>\n",
       "      <td>0</td>\n",
       "      <td>25</td>\n",
       "      <td>Grey</td>\n",
       "      <td>1</td>\n",
       "    </tr>\n",
       "    <tr>\n",
       "      <th>3</th>\n",
       "      <td>150600</td>\n",
       "      <td>RURAL</td>\n",
       "      <td>1</td>\n",
       "      <td>1</td>\n",
       "      <td>BMW</td>\n",
       "      <td>3 SERIES</td>\n",
       "      <td>0</td>\n",
       "      <td>19</td>\n",
       "      <td>White</td>\n",
       "      <td>Y</td>\n",
       "    </tr>\n",
       "    <tr>\n",
       "      <th>4</th>\n",
       "      <td>50000</td>\n",
       "      <td>RURAL</td>\n",
       "      <td>1</td>\n",
       "      <td>1</td>\n",
       "      <td>VOLKSWAGON</td>\n",
       "      <td>GOLF</td>\n",
       "      <td>1</td>\n",
       "      <td>55</td>\n",
       "      <td>Black</td>\n",
       "      <td>Yes</td>\n",
       "    </tr>\n",
       "    <tr>\n",
       "      <th>5</th>\n",
       "      <td>15000</td>\n",
       "      <td>RURAL</td>\n",
       "      <td>1</td>\n",
       "      <td>1</td>\n",
       "      <td>PEUGEOT</td>\n",
       "      <td>107</td>\n",
       "      <td>0</td>\n",
       "      <td>54</td>\n",
       "      <td>Yellow</td>\n",
       "      <td>N</td>\n",
       "    </tr>\n",
       "    <tr>\n",
       "      <th>6</th>\n",
       "      <td>6550</td>\n",
       "      <td>URBAN</td>\n",
       "      <td>1</td>\n",
       "      <td>0</td>\n",
       "      <td>TOYOTA</td>\n",
       "      <td>AVENSIS</td>\n",
       "      <td>1</td>\n",
       "      <td>42</td>\n",
       "      <td>Red</td>\n",
       "      <td>N</td>\n",
       "    </tr>\n",
       "    <tr>\n",
       "      <th>7</th>\n",
       "      <td>75430</td>\n",
       "      <td>RURAL</td>\n",
       "      <td>1</td>\n",
       "      <td>1</td>\n",
       "      <td>BMW</td>\n",
       "      <td>3 SERIES</td>\n",
       "      <td>0</td>\n",
       "      <td>32</td>\n",
       "      <td>Grey</td>\n",
       "      <td>Yes</td>\n",
       "    </tr>\n",
       "    <tr>\n",
       "      <th>8</th>\n",
       "      <td>54350</td>\n",
       "      <td>RURAL</td>\n",
       "      <td>0</td>\n",
       "      <td>0</td>\n",
       "      <td>MERCEDES</td>\n",
       "      <td>C CLASS</td>\n",
       "      <td>0</td>\n",
       "      <td>65</td>\n",
       "      <td>Black</td>\n",
       "      <td>Y</td>\n",
       "    </tr>\n",
       "    <tr>\n",
       "      <th>9</th>\n",
       "      <td>42130</td>\n",
       "      <td>URBAN</td>\n",
       "      <td>1</td>\n",
       "      <td>1</td>\n",
       "      <td>FORD</td>\n",
       "      <td>KIA</td>\n",
       "      <td>1</td>\n",
       "      <td>28</td>\n",
       "      <td>Red</td>\n",
       "      <td>No</td>\n",
       "    </tr>\n",
       "  </tbody>\n",
       "</table>\n",
       "</div>"
      ],
      "text/plain": [
       "   Income   Area Employed Home Owner        Make     Model Gender Age  Colour  \\\n",
       "0   12500  URBAN      NaN          0      TOYOTA     AURIS      0  25  Yellow   \n",
       "1   76300  RURAL        1          1         BMW  3 SERIES      1  25   Black   \n",
       "2   52340  RURAL        0          1    MERCEDES   C CLASS      0  25    Grey   \n",
       "3  150600  RURAL        1          1         BMW  3 SERIES      0  19   White   \n",
       "4   50000  RURAL        1          1  VOLKSWAGON      GOLF      1  55   Black   \n",
       "5   15000  RURAL        1          1     PEUGEOT       107      0  54  Yellow   \n",
       "6    6550  URBAN        1          0      TOYOTA   AVENSIS      1  42     Red   \n",
       "7   75430  RURAL        1          1         BMW  3 SERIES      0  32    Grey   \n",
       "8   54350  RURAL        0          0    MERCEDES   C CLASS      0  65   Black   \n",
       "9   42130  URBAN        1          1        FORD       KIA      1  28     Red   \n",
       "\n",
       "  Stolen  \n",
       "0      N  \n",
       "1    Yes  \n",
       "2      1  \n",
       "3      Y  \n",
       "4    Yes  \n",
       "5      N  \n",
       "6      N  \n",
       "7    Yes  \n",
       "8      Y  \n",
       "9     No  "
      ]
     },
     "execution_count": 32,
     "metadata": {},
     "output_type": "execute_result"
    }
   ],
   "source": [
    "df.head(10)"
   ]
  },
  {
   "cell_type": "markdown",
   "id": "109d2985",
   "metadata": {},
   "source": [
    "# Clean: Colour"
   ]
  },
  {
   "cell_type": "markdown",
   "id": "809b8944",
   "metadata": {},
   "source": [
    "## Check unique entries within COLOUR\n",
    "### to see what needs cleaning"
   ]
  },
  {
   "cell_type": "code",
   "execution_count": 33,
   "id": "7aa62ef8",
   "metadata": {},
   "outputs": [
    {
     "data": {
      "text/plain": [
       "array(['Yellow', 'Black', 'Grey', 'White', 'Red', 'Blue', 'White ',\n",
       "       'Pink', 'Green', 'Purple'], dtype=object)"
      ]
     },
     "execution_count": 33,
     "metadata": {},
     "output_type": "execute_result"
    }
   ],
   "source": [
    "df['Colour'].unique()"
   ]
  },
  {
   "cell_type": "markdown",
   "id": "58176dc3",
   "metadata": {},
   "source": [
    "## Convert all strings to uppercase for visual clarity"
   ]
  },
  {
   "cell_type": "code",
   "execution_count": 34,
   "id": "9d9fbb95",
   "metadata": {},
   "outputs": [
    {
     "data": {
      "text/plain": [
       "array(['YELLOW', 'BLACK', 'GREY', 'WHITE', 'RED', 'BLUE', 'WHITE ',\n",
       "       'PINK', 'GREEN', 'PURPLE'], dtype=object)"
      ]
     },
     "execution_count": 34,
     "metadata": {},
     "output_type": "execute_result"
    }
   ],
   "source": [
    "df['Colour'] = df['Colour'].str.upper()\n",
    "df['Colour'].unique()"
   ]
  },
  {
   "cell_type": "markdown",
   "id": "b4046b67",
   "metadata": {},
   "source": [
    "## Replace all instances of 'White ' with 'WHITE' to account for duplicate entries"
   ]
  },
  {
   "cell_type": "code",
   "execution_count": 35,
   "id": "37ec2917",
   "metadata": {},
   "outputs": [
    {
     "data": {
      "text/plain": [
       "array(['YELLOW', 'BLACK', 'GREY', 'WHITE', 'RED', 'BLUE', 'PINK', 'GREEN',\n",
       "       'PURPLE'], dtype=object)"
      ]
     },
     "execution_count": 35,
     "metadata": {},
     "output_type": "execute_result"
    }
   ],
   "source": [
    "df['Colour'] = df['Colour'].str.replace('WHITE ', 'WHITE')\n",
    "df['Colour'].unique()"
   ]
  },
  {
   "cell_type": "markdown",
   "id": "73f1ed1c",
   "metadata": {},
   "source": [
    "## Reload dataframe with cleaned column"
   ]
  },
  {
   "cell_type": "code",
   "execution_count": 36,
   "id": "06589e12",
   "metadata": {},
   "outputs": [
    {
     "data": {
      "text/html": [
       "<div>\n",
       "<style scoped>\n",
       "    .dataframe tbody tr th:only-of-type {\n",
       "        vertical-align: middle;\n",
       "    }\n",
       "\n",
       "    .dataframe tbody tr th {\n",
       "        vertical-align: top;\n",
       "    }\n",
       "\n",
       "    .dataframe thead th {\n",
       "        text-align: right;\n",
       "    }\n",
       "</style>\n",
       "<table border=\"1\" class=\"dataframe\">\n",
       "  <thead>\n",
       "    <tr style=\"text-align: right;\">\n",
       "      <th></th>\n",
       "      <th>Income</th>\n",
       "      <th>Area</th>\n",
       "      <th>Employed</th>\n",
       "      <th>Home Owner</th>\n",
       "      <th>Make</th>\n",
       "      <th>Model</th>\n",
       "      <th>Gender</th>\n",
       "      <th>Age</th>\n",
       "      <th>Colour</th>\n",
       "      <th>Stolen</th>\n",
       "    </tr>\n",
       "  </thead>\n",
       "  <tbody>\n",
       "    <tr>\n",
       "      <th>0</th>\n",
       "      <td>12500</td>\n",
       "      <td>URBAN</td>\n",
       "      <td>NaN</td>\n",
       "      <td>0</td>\n",
       "      <td>TOYOTA</td>\n",
       "      <td>AURIS</td>\n",
       "      <td>0</td>\n",
       "      <td>25</td>\n",
       "      <td>YELLOW</td>\n",
       "      <td>N</td>\n",
       "    </tr>\n",
       "    <tr>\n",
       "      <th>1</th>\n",
       "      <td>76300</td>\n",
       "      <td>RURAL</td>\n",
       "      <td>1</td>\n",
       "      <td>1</td>\n",
       "      <td>BMW</td>\n",
       "      <td>3 SERIES</td>\n",
       "      <td>1</td>\n",
       "      <td>25</td>\n",
       "      <td>BLACK</td>\n",
       "      <td>Yes</td>\n",
       "    </tr>\n",
       "    <tr>\n",
       "      <th>2</th>\n",
       "      <td>52340</td>\n",
       "      <td>RURAL</td>\n",
       "      <td>0</td>\n",
       "      <td>1</td>\n",
       "      <td>MERCEDES</td>\n",
       "      <td>C CLASS</td>\n",
       "      <td>0</td>\n",
       "      <td>25</td>\n",
       "      <td>GREY</td>\n",
       "      <td>1</td>\n",
       "    </tr>\n",
       "    <tr>\n",
       "      <th>3</th>\n",
       "      <td>150600</td>\n",
       "      <td>RURAL</td>\n",
       "      <td>1</td>\n",
       "      <td>1</td>\n",
       "      <td>BMW</td>\n",
       "      <td>3 SERIES</td>\n",
       "      <td>0</td>\n",
       "      <td>19</td>\n",
       "      <td>WHITE</td>\n",
       "      <td>Y</td>\n",
       "    </tr>\n",
       "    <tr>\n",
       "      <th>4</th>\n",
       "      <td>50000</td>\n",
       "      <td>RURAL</td>\n",
       "      <td>1</td>\n",
       "      <td>1</td>\n",
       "      <td>VOLKSWAGON</td>\n",
       "      <td>GOLF</td>\n",
       "      <td>1</td>\n",
       "      <td>55</td>\n",
       "      <td>BLACK</td>\n",
       "      <td>Yes</td>\n",
       "    </tr>\n",
       "    <tr>\n",
       "      <th>5</th>\n",
       "      <td>15000</td>\n",
       "      <td>RURAL</td>\n",
       "      <td>1</td>\n",
       "      <td>1</td>\n",
       "      <td>PEUGEOT</td>\n",
       "      <td>107</td>\n",
       "      <td>0</td>\n",
       "      <td>54</td>\n",
       "      <td>YELLOW</td>\n",
       "      <td>N</td>\n",
       "    </tr>\n",
       "    <tr>\n",
       "      <th>6</th>\n",
       "      <td>6550</td>\n",
       "      <td>URBAN</td>\n",
       "      <td>1</td>\n",
       "      <td>0</td>\n",
       "      <td>TOYOTA</td>\n",
       "      <td>AVENSIS</td>\n",
       "      <td>1</td>\n",
       "      <td>42</td>\n",
       "      <td>RED</td>\n",
       "      <td>N</td>\n",
       "    </tr>\n",
       "    <tr>\n",
       "      <th>7</th>\n",
       "      <td>75430</td>\n",
       "      <td>RURAL</td>\n",
       "      <td>1</td>\n",
       "      <td>1</td>\n",
       "      <td>BMW</td>\n",
       "      <td>3 SERIES</td>\n",
       "      <td>0</td>\n",
       "      <td>32</td>\n",
       "      <td>GREY</td>\n",
       "      <td>Yes</td>\n",
       "    </tr>\n",
       "    <tr>\n",
       "      <th>8</th>\n",
       "      <td>54350</td>\n",
       "      <td>RURAL</td>\n",
       "      <td>0</td>\n",
       "      <td>0</td>\n",
       "      <td>MERCEDES</td>\n",
       "      <td>C CLASS</td>\n",
       "      <td>0</td>\n",
       "      <td>65</td>\n",
       "      <td>BLACK</td>\n",
       "      <td>Y</td>\n",
       "    </tr>\n",
       "    <tr>\n",
       "      <th>9</th>\n",
       "      <td>42130</td>\n",
       "      <td>URBAN</td>\n",
       "      <td>1</td>\n",
       "      <td>1</td>\n",
       "      <td>FORD</td>\n",
       "      <td>KIA</td>\n",
       "      <td>1</td>\n",
       "      <td>28</td>\n",
       "      <td>RED</td>\n",
       "      <td>No</td>\n",
       "    </tr>\n",
       "  </tbody>\n",
       "</table>\n",
       "</div>"
      ],
      "text/plain": [
       "   Income   Area Employed Home Owner        Make     Model Gender Age  Colour  \\\n",
       "0   12500  URBAN      NaN          0      TOYOTA     AURIS      0  25  YELLOW   \n",
       "1   76300  RURAL        1          1         BMW  3 SERIES      1  25   BLACK   \n",
       "2   52340  RURAL        0          1    MERCEDES   C CLASS      0  25    GREY   \n",
       "3  150600  RURAL        1          1         BMW  3 SERIES      0  19   WHITE   \n",
       "4   50000  RURAL        1          1  VOLKSWAGON      GOLF      1  55   BLACK   \n",
       "5   15000  RURAL        1          1     PEUGEOT       107      0  54  YELLOW   \n",
       "6    6550  URBAN        1          0      TOYOTA   AVENSIS      1  42     RED   \n",
       "7   75430  RURAL        1          1         BMW  3 SERIES      0  32    GREY   \n",
       "8   54350  RURAL        0          0    MERCEDES   C CLASS      0  65   BLACK   \n",
       "9   42130  URBAN        1          1        FORD       KIA      1  28     RED   \n",
       "\n",
       "  Stolen  \n",
       "0      N  \n",
       "1    Yes  \n",
       "2      1  \n",
       "3      Y  \n",
       "4    Yes  \n",
       "5      N  \n",
       "6      N  \n",
       "7    Yes  \n",
       "8      Y  \n",
       "9     No  "
      ]
     },
     "execution_count": 36,
     "metadata": {},
     "output_type": "execute_result"
    }
   ],
   "source": [
    "df.head(10)"
   ]
  },
  {
   "cell_type": "markdown",
   "id": "93db08ed",
   "metadata": {},
   "source": [
    "# Clean: Stolen"
   ]
  },
  {
   "cell_type": "markdown",
   "id": "7f032576",
   "metadata": {},
   "source": [
    "## Check unique entries within STOLEN\n",
    "## to see what needs cleaning"
   ]
  },
  {
   "cell_type": "code",
   "execution_count": 37,
   "id": "f86bcb44",
   "metadata": {},
   "outputs": [
    {
     "data": {
      "text/plain": [
       "array(['N', 'Yes', '1', 'Y', 'No', '0', 'n'], dtype=object)"
      ]
     },
     "execution_count": 37,
     "metadata": {},
     "output_type": "execute_result"
    }
   ],
   "source": [
    "df['Stolen'].unique()"
   ]
  },
  {
   "cell_type": "markdown",
   "id": "54b1347d",
   "metadata": {},
   "source": [
    "## Convert all values to uppercase to account for duplicate entries"
   ]
  },
  {
   "cell_type": "code",
   "execution_count": 38,
   "id": "ebd5a75c",
   "metadata": {},
   "outputs": [
    {
     "data": {
      "text/plain": [
       "array(['N', 'YES', '1', 'Y', 'NO', '0'], dtype=object)"
      ]
     },
     "execution_count": 38,
     "metadata": {},
     "output_type": "execute_result"
    }
   ],
   "source": [
    "df['Stolen'] = df['Stolen'].str.upper()\n",
    "df['Stolen'].unique()"
   ]
  },
  {
   "cell_type": "markdown",
   "id": "63d1ffc7",
   "metadata": {},
   "source": [
    "## Replace variations of yes to 1 and no to 0"
   ]
  },
  {
   "cell_type": "code",
   "execution_count": 39,
   "id": "56225e68",
   "metadata": {},
   "outputs": [
    {
     "data": {
      "text/plain": [
       "array(['0', '1'], dtype=object)"
      ]
     },
     "execution_count": 39,
     "metadata": {},
     "output_type": "execute_result"
    }
   ],
   "source": [
    "df['Stolen'].replace({'YES' : '1', 'Y' : '1', 'NO' : '0', 'N' : '0'}, inplace = True)\n",
    "df['Stolen'].unique()"
   ]
  },
  {
   "cell_type": "markdown",
   "id": "35f94a0f",
   "metadata": {},
   "source": [
    "## Reload dataframe to ensure clean"
   ]
  },
  {
   "cell_type": "code",
   "execution_count": 40,
   "id": "cd09fd54",
   "metadata": {},
   "outputs": [
    {
     "data": {
      "text/html": [
       "<div>\n",
       "<style scoped>\n",
       "    .dataframe tbody tr th:only-of-type {\n",
       "        vertical-align: middle;\n",
       "    }\n",
       "\n",
       "    .dataframe tbody tr th {\n",
       "        vertical-align: top;\n",
       "    }\n",
       "\n",
       "    .dataframe thead th {\n",
       "        text-align: right;\n",
       "    }\n",
       "</style>\n",
       "<table border=\"1\" class=\"dataframe\">\n",
       "  <thead>\n",
       "    <tr style=\"text-align: right;\">\n",
       "      <th></th>\n",
       "      <th>Income</th>\n",
       "      <th>Area</th>\n",
       "      <th>Employed</th>\n",
       "      <th>Home Owner</th>\n",
       "      <th>Make</th>\n",
       "      <th>Model</th>\n",
       "      <th>Gender</th>\n",
       "      <th>Age</th>\n",
       "      <th>Colour</th>\n",
       "      <th>Stolen</th>\n",
       "    </tr>\n",
       "  </thead>\n",
       "  <tbody>\n",
       "    <tr>\n",
       "      <th>0</th>\n",
       "      <td>12500</td>\n",
       "      <td>URBAN</td>\n",
       "      <td>NaN</td>\n",
       "      <td>0</td>\n",
       "      <td>TOYOTA</td>\n",
       "      <td>AURIS</td>\n",
       "      <td>0</td>\n",
       "      <td>25</td>\n",
       "      <td>YELLOW</td>\n",
       "      <td>0</td>\n",
       "    </tr>\n",
       "    <tr>\n",
       "      <th>1</th>\n",
       "      <td>76300</td>\n",
       "      <td>RURAL</td>\n",
       "      <td>1</td>\n",
       "      <td>1</td>\n",
       "      <td>BMW</td>\n",
       "      <td>3 SERIES</td>\n",
       "      <td>1</td>\n",
       "      <td>25</td>\n",
       "      <td>BLACK</td>\n",
       "      <td>1</td>\n",
       "    </tr>\n",
       "    <tr>\n",
       "      <th>2</th>\n",
       "      <td>52340</td>\n",
       "      <td>RURAL</td>\n",
       "      <td>0</td>\n",
       "      <td>1</td>\n",
       "      <td>MERCEDES</td>\n",
       "      <td>C CLASS</td>\n",
       "      <td>0</td>\n",
       "      <td>25</td>\n",
       "      <td>GREY</td>\n",
       "      <td>1</td>\n",
       "    </tr>\n",
       "    <tr>\n",
       "      <th>3</th>\n",
       "      <td>150600</td>\n",
       "      <td>RURAL</td>\n",
       "      <td>1</td>\n",
       "      <td>1</td>\n",
       "      <td>BMW</td>\n",
       "      <td>3 SERIES</td>\n",
       "      <td>0</td>\n",
       "      <td>19</td>\n",
       "      <td>WHITE</td>\n",
       "      <td>1</td>\n",
       "    </tr>\n",
       "    <tr>\n",
       "      <th>4</th>\n",
       "      <td>50000</td>\n",
       "      <td>RURAL</td>\n",
       "      <td>1</td>\n",
       "      <td>1</td>\n",
       "      <td>VOLKSWAGON</td>\n",
       "      <td>GOLF</td>\n",
       "      <td>1</td>\n",
       "      <td>55</td>\n",
       "      <td>BLACK</td>\n",
       "      <td>1</td>\n",
       "    </tr>\n",
       "    <tr>\n",
       "      <th>5</th>\n",
       "      <td>15000</td>\n",
       "      <td>RURAL</td>\n",
       "      <td>1</td>\n",
       "      <td>1</td>\n",
       "      <td>PEUGEOT</td>\n",
       "      <td>107</td>\n",
       "      <td>0</td>\n",
       "      <td>54</td>\n",
       "      <td>YELLOW</td>\n",
       "      <td>0</td>\n",
       "    </tr>\n",
       "    <tr>\n",
       "      <th>6</th>\n",
       "      <td>6550</td>\n",
       "      <td>URBAN</td>\n",
       "      <td>1</td>\n",
       "      <td>0</td>\n",
       "      <td>TOYOTA</td>\n",
       "      <td>AVENSIS</td>\n",
       "      <td>1</td>\n",
       "      <td>42</td>\n",
       "      <td>RED</td>\n",
       "      <td>0</td>\n",
       "    </tr>\n",
       "    <tr>\n",
       "      <th>7</th>\n",
       "      <td>75430</td>\n",
       "      <td>RURAL</td>\n",
       "      <td>1</td>\n",
       "      <td>1</td>\n",
       "      <td>BMW</td>\n",
       "      <td>3 SERIES</td>\n",
       "      <td>0</td>\n",
       "      <td>32</td>\n",
       "      <td>GREY</td>\n",
       "      <td>1</td>\n",
       "    </tr>\n",
       "    <tr>\n",
       "      <th>8</th>\n",
       "      <td>54350</td>\n",
       "      <td>RURAL</td>\n",
       "      <td>0</td>\n",
       "      <td>0</td>\n",
       "      <td>MERCEDES</td>\n",
       "      <td>C CLASS</td>\n",
       "      <td>0</td>\n",
       "      <td>65</td>\n",
       "      <td>BLACK</td>\n",
       "      <td>1</td>\n",
       "    </tr>\n",
       "    <tr>\n",
       "      <th>9</th>\n",
       "      <td>42130</td>\n",
       "      <td>URBAN</td>\n",
       "      <td>1</td>\n",
       "      <td>1</td>\n",
       "      <td>FORD</td>\n",
       "      <td>KIA</td>\n",
       "      <td>1</td>\n",
       "      <td>28</td>\n",
       "      <td>RED</td>\n",
       "      <td>0</td>\n",
       "    </tr>\n",
       "  </tbody>\n",
       "</table>\n",
       "</div>"
      ],
      "text/plain": [
       "   Income   Area Employed Home Owner        Make     Model Gender Age  Colour  \\\n",
       "0   12500  URBAN      NaN          0      TOYOTA     AURIS      0  25  YELLOW   \n",
       "1   76300  RURAL        1          1         BMW  3 SERIES      1  25   BLACK   \n",
       "2   52340  RURAL        0          1    MERCEDES   C CLASS      0  25    GREY   \n",
       "3  150600  RURAL        1          1         BMW  3 SERIES      0  19   WHITE   \n",
       "4   50000  RURAL        1          1  VOLKSWAGON      GOLF      1  55   BLACK   \n",
       "5   15000  RURAL        1          1     PEUGEOT       107      0  54  YELLOW   \n",
       "6    6550  URBAN        1          0      TOYOTA   AVENSIS      1  42     RED   \n",
       "7   75430  RURAL        1          1         BMW  3 SERIES      0  32    GREY   \n",
       "8   54350  RURAL        0          0    MERCEDES   C CLASS      0  65   BLACK   \n",
       "9   42130  URBAN        1          1        FORD       KIA      1  28     RED   \n",
       "\n",
       "  Stolen  \n",
       "0      0  \n",
       "1      1  \n",
       "2      1  \n",
       "3      1  \n",
       "4      1  \n",
       "5      0  \n",
       "6      0  \n",
       "7      1  \n",
       "8      1  \n",
       "9      0  "
      ]
     },
     "execution_count": 40,
     "metadata": {},
     "output_type": "execute_result"
    }
   ],
   "source": [
    "df.head(10)"
   ]
  },
  {
   "cell_type": "markdown",
   "id": "77410d68",
   "metadata": {},
   "source": [
    "# Deal with NaN values"
   ]
  },
  {
   "cell_type": "markdown",
   "id": "83a3925d",
   "metadata": {},
   "source": [
    "## Check remaining NaN values"
   ]
  },
  {
   "cell_type": "code",
   "execution_count": 41,
   "id": "f12e6279",
   "metadata": {},
   "outputs": [
    {
     "data": {
      "text/plain": [
       "Income        0\n",
       "Area          0\n",
       "Employed      2\n",
       "Home Owner    1\n",
       "Make          0\n",
       "Model         1\n",
       "Gender        0\n",
       "Age           1\n",
       "Colour        0\n",
       "Stolen        0\n",
       "dtype: int64"
      ]
     },
     "execution_count": 41,
     "metadata": {},
     "output_type": "execute_result"
    }
   ],
   "source": [
    "df_null = df.isnull()\n",
    "df_null.sum()"
   ]
  },
  {
   "cell_type": "code",
   "execution_count": 42,
   "id": "fbfd04b8",
   "metadata": {},
   "outputs": [],
   "source": [
    "# Drop rows with NaN values and create a copy\n",
    "df_cleaned = df.dropna().copy() ##CREATED COPY BECAUSE PANDAS KEPT SHOUTING WARNINGS AT ME FOR NOT COPYING"
   ]
  },
  {
   "cell_type": "code",
   "execution_count": 43,
   "id": "b44144fe",
   "metadata": {},
   "outputs": [],
   "source": [
    "df.to_csv('cwdata_na.csv', index=False)"
   ]
  },
  {
   "cell_type": "code",
   "execution_count": null,
   "id": "f81e5475",
   "metadata": {},
   "outputs": [],
   "source": []
  },
  {
   "cell_type": "markdown",
   "id": "63de446b",
   "metadata": {},
   "source": [
    "# Label encode all values in the cleaned df copy so we can use the integer ID's \n"
   ]
  },
  {
   "cell_type": "code",
   "execution_count": 44,
   "id": "6b2574af",
   "metadata": {},
   "outputs": [],
   "source": [
    "# Label encoding for categorical variables\n",
    "label_encoder = LabelEncoder()\n",
    "df_cleaned['Area'] = label_encoder.fit_transform(df_cleaned['Area'])\n",
    "df_cleaned['Make'] = label_encoder.fit_transform(df_cleaned['Make'])\n",
    "df_cleaned['Model'] = label_encoder.fit_transform(df_cleaned['Model'])\n",
    "df_cleaned['Colour'] = label_encoder.fit_transform(df_cleaned['Colour'])\n",
    "\n",
    "\n"
   ]
  },
  {
   "cell_type": "markdown",
   "id": "67d285cd",
   "metadata": {},
   "source": [
    "# Feature Analysis"
   ]
  },
  {
   "cell_type": "markdown",
   "id": "c64b41ea",
   "metadata": {},
   "source": [
    "## The copy dataframe now contains only numerical values so we can use the data for modelling and graphing now"
   ]
  },
  {
   "cell_type": "code",
   "execution_count": 45,
   "id": "b80a6399",
   "metadata": {},
   "outputs": [],
   "source": [
    "# Calculate correlation matrix\n",
    "corr = df_cleaned.corr()"
   ]
  },
  {
   "cell_type": "code",
   "execution_count": 46,
   "id": "ef546bd7",
   "metadata": {},
   "outputs": [
    {
     "data": {
      "image/png": "[encoded data removed]",
      "text/plain": [
       "<Figure size 1000x800 with 2 Axes>"
      ]
     },
     "metadata": {},
     "output_type": "display_data"
    }
   ],
   "source": [
    "# Create a mask for the upper triangle\n",
    "mask = np.triu(np.ones_like(corr, dtype=bool))\n",
    "\n",
    "# Set up the matplotlib figure\n",
    "plt.figure(figsize=(10, 8))\n",
    "\n",
    "# Draw the heatmap with the mask and correct aspect ratio\n",
    "heatmap = sns.heatmap(corr, annot=True, cmap='bone', mask=mask, fmt=\".2f\", cbar=True)\n",
    "\n",
    "# Set title\n",
    "plt.title('Correlation Heatmap')\n",
    "\n",
    "# Retrieve the color bar object from the axes and set its label\n",
    "cbar = heatmap.collections[0].colorbar\n",
    "cbar.set_label('Correlation', rotation=270)\n",
    "\n",
    "# Show plot\n",
    "plt.show()\n"
   ]
  },
  {
   "cell_type": "markdown",
   "id": "59cf9bad",
   "metadata": {},
   "source": [
    "## Lets recall which 'Employed' data we need to estimate"
   ]
  },
  {
   "cell_type": "code",
   "execution_count": 47,
   "id": "850a248b",
   "metadata": {
    "scrolled": true
   },
   "outputs": [
    {
     "name": "stdout",
     "output_type": "stream",
     "text": [
      "    Income   Area Employed Home Owner     Make     Model Gender  Age  Colour  \\\n",
      "0    12500  URBAN      NaN          0   TOYOTA     AURIS      0   25  YELLOW   \n",
      "77   56870  RURAL        0          1      BMW  3 SERIES      1  NaN   BLACK   \n",
      "89   12500  URBAN      NaN          0   TOYOTA     AURIS      0   25  YELLOW   \n",
      "92  150600  RURAL        1          1      BMW       NaN      0   19   WHITE   \n",
      "93   43000  RURAL        1        NaN  PEUGEOT       107      1   55   BLACK   \n",
      "\n",
      "   Stolen  \n",
      "0       0  \n",
      "77      1  \n",
      "89      0  \n",
      "92      0  \n",
      "93      0  \n"
     ]
    }
   ],
   "source": [
    "# Filter rows with NA values\n",
    "rows_with_na = df[df.isna().any(axis=1)]\n",
    "\n",
    "# Display rows with NA values\n",
    "print(rows_with_na)"
   ]
  },
  {
   "cell_type": "markdown",
   "id": "e06ff809",
   "metadata": {},
   "source": [
    "## As shown above, the two NA values in Employed are duplicate entries so we can drop one and predict the other"
   ]
  },
  {
   "cell_type": "code",
   "execution_count": 48,
   "id": "81024536",
   "metadata": {},
   "outputs": [
    {
     "name": "stdout",
     "output_type": "stream",
     "text": [
      "    Income   Area Employed Home Owner    Make  Model Gender Age  Colour Stolen\n",
      "0    12500  URBAN      NaN          0  TOYOTA  AURIS      0  25  YELLOW      0\n",
      "89   12500  URBAN      NaN          0  TOYOTA  AURIS      0  25  YELLOW      0\n"
     ]
    }
   ],
   "source": [
    "specific_rows = df.loc[[0, 89]]\n",
    "print(specific_rows)\n"
   ]
  },
  {
   "cell_type": "code",
   "execution_count": 49,
   "id": "0041288b",
   "metadata": {
    "scrolled": true
   },
   "outputs": [
    {
     "name": "stdout",
     "output_type": "stream",
     "text": [
      "    Income   Area Employed Home Owner    Make  Model Gender Age  Colour Stolen\n",
      "89   12500  URBAN      NaN          0  TOYOTA  AURIS      0  25  YELLOW      0\n"
     ]
    }
   ],
   "source": [
    "# drop index 0\n",
    "df = df.drop(0)\n",
    "\n",
    "# Check for rows with NaN values in the \"Employed\" column\n",
    "na_employed_rows = df[df['Employed'].isna()]\n",
    "\n",
    "# Display rows with NaN values in the \"Employed\" column\n",
    "print(na_employed_rows)"
   ]
  },
  {
   "cell_type": "markdown",
   "id": "2841bac9",
   "metadata": {},
   "source": [
    "## The highest Employed correlation is against Income\n"
   ]
  },
  {
   "cell_type": "code",
   "execution_count": 50,
   "id": "6c60e563",
   "metadata": {
    "scrolled": true
   },
   "outputs": [
    {
     "data": {
      "image/png": "[encoded data removed]",
      "text/plain": [
       "<Figure size 300x300 with 1 Axes>"
      ]
     },
     "metadata": {},
     "output_type": "display_data"
    }
   ],
   "source": [
    "# Filter out rows with non-null values in both \"Employed\" and \"Income\" columns\n",
    "df_employed_income = df.dropna(subset=['Employed', 'Income'])\n",
    "\n",
    "# Plot the scatter plot with red points\n",
    "plt.figure(figsize=(3, 3))\n",
    "plt.scatter(df_employed_income['Employed'], df_employed_income['Income'], alpha=0.5, s=10, color='red')\n",
    "\n",
    "# Draw a horizontal line at income value of 12500\n",
    "plt.axhline(y=12500, color='blue', linestyle='--', label='Income = $12500')\n",
    "\n",
    "plt.title('Employed vs Income')\n",
    "plt.xlabel('Employed')\n",
    "plt.ylabel('Income')\n",
    "plt.grid(True)\n",
    "plt.legend()\n",
    "plt.show()\n"
   ]
  },
  {
   "cell_type": "markdown",
   "id": "466639b8",
   "metadata": {},
   "source": [
    "## Most of the surrounding points on the graph along the $12500 line are unemployed\n",
    "### so we can assume they are unemployed"
   ]
  },
  {
   "cell_type": "code",
   "execution_count": 51,
   "id": "81c2e384",
   "metadata": {},
   "outputs": [
    {
     "name": "stdout",
     "output_type": "stream",
     "text": [
      "Income         12500\n",
      "Area           URBAN\n",
      "Employed           0\n",
      "Home Owner         0\n",
      "Make          TOYOTA\n",
      "Model          AURIS\n",
      "Gender             0\n",
      "Age               25\n",
      "Colour        YELLOW\n",
      "Stolen             0\n",
      "Name: 89, dtype: object\n"
     ]
    }
   ],
   "source": [
    "#fill na value with 0 and check the row\n",
    "df['Employed'].fillna(0, inplace=True)\n",
    "na_employment_row = df.loc[89]\n",
    "print(na_employment_row)"
   ]
  },
  {
   "cell_type": "code",
   "execution_count": 52,
   "id": "348faaed",
   "metadata": {},
   "outputs": [
    {
     "data": {
      "text/plain": [
       "Income        0\n",
       "Area          0\n",
       "Employed      0\n",
       "Home Owner    1\n",
       "Make          0\n",
       "Model         1\n",
       "Gender        0\n",
       "Age           1\n",
       "Colour        0\n",
       "Stolen        0\n",
       "dtype: int64"
      ]
     },
     "execution_count": 52,
     "metadata": {},
     "output_type": "execute_result"
    }
   ],
   "source": [
    "df_null = df.isnull()\n",
    "df_null.sum()"
   ]
  },
  {
   "cell_type": "code",
   "execution_count": 53,
   "id": "4651edbf",
   "metadata": {
    "scrolled": false
   },
   "outputs": [
    {
     "data": {
      "image/png": "[encoded data removed]",
      "text/plain": [
       "<Figure size 1000x800 with 2 Axes>"
      ]
     },
     "metadata": {},
     "output_type": "display_data"
    }
   ],
   "source": [
    "# Create a mask for the upper triangle\n",
    "mask = np.triu(np.ones_like(corr, dtype=bool))\n",
    "\n",
    "# Set up the matplotlib figure\n",
    "plt.figure(figsize=(10, 8))\n",
    "\n",
    "# Draw the heatmap with the mask and correct aspect ratio\n",
    "heatmap = sns.heatmap(corr, annot=True, cmap='bone', mask=mask, fmt=\".2f\", cbar=True)\n",
    "\n",
    "# Set title\n",
    "plt.title('Correlation Heatmap')\n",
    "\n",
    "# Retrieve the color bar object from the axes and set its label\n",
    "cbar = heatmap.collections[0].colorbar\n",
    "cbar.set_label('Correlation', rotation=270)\n",
    "\n",
    "# Show plot\n",
    "plt.show()\n"
   ]
  },
  {
   "cell_type": "code",
   "execution_count": 54,
   "id": "a4e5df67",
   "metadata": {},
   "outputs": [
    {
     "name": "stdout",
     "output_type": "stream",
     "text": [
      "    Income   Area Employed Home Owner     Make Model Gender Age Colour Stolen\n",
      "93   43000  RURAL        1        NaN  PEUGEOT   107      1  55  BLACK      0\n"
     ]
    }
   ],
   "source": [
    "# Check for rows with NaN values in the \"Employed\" column\n",
    "na_home_owner_rows = df[df['Home Owner'].isna()]\n",
    "\n",
    "# Display rows with NaN values in the \"Employed\" column\n",
    "print(na_home_owner_rows)"
   ]
  },
  {
   "cell_type": "code",
   "execution_count": 55,
   "id": "371f9567",
   "metadata": {},
   "outputs": [
    {
     "data": {
      "image/png": "[encoded data removed]",
      "text/plain": [
       "<Figure size 800x600 with 1 Axes>"
      ]
     },
     "metadata": {},
     "output_type": "display_data"
    }
   ],
   "source": [
    "# Plot a clustered bar chart\n",
    "plt.figure(figsize=(8, 6))\n",
    "sns.countplot(x='Home Owner', hue='Area', data=df)\n",
    "plt.title('Distribution of Home Owners by Area')\n",
    "plt.xlabel('Home Owner')\n",
    "plt.ylabel('Count')\n",
    "plt.legend(title='Area')\n",
    "plt.show()\n",
    "\n"
   ]
  },
  {
   "cell_type": "markdown",
   "id": "58dc145d",
   "metadata": {},
   "source": [
    "## The user lives in a rural area and the majority of rural people are homeowners so its safe to assume he is a homeowner"
   ]
  },
  {
   "cell_type": "code",
   "execution_count": 56,
   "id": "4c9b2acb",
   "metadata": {},
   "outputs": [
    {
     "name": "stdout",
     "output_type": "stream",
     "text": [
      "Income          43000\n",
      "Area            RURAL\n",
      "Employed            1\n",
      "Home Owner          1\n",
      "Make          PEUGEOT\n",
      "Model             107\n",
      "Gender              1\n",
      "Age                55\n",
      "Colour          BLACK\n",
      "Stolen              0\n",
      "Name: 93, dtype: object\n"
     ]
    }
   ],
   "source": [
    "# Replace NA values in the \"Home Owner\" column with 1 (homeowner)\n",
    "df['Home Owner'].fillna(1, inplace=True)\n",
    "na_home_owner_row = df.loc[93]\n",
    "print(na_home_owner_row)"
   ]
  },
  {
   "cell_type": "code",
   "execution_count": 57,
   "id": "76fc522b",
   "metadata": {},
   "outputs": [
    {
     "data": {
      "text/plain": [
       "Income        0\n",
       "Area          0\n",
       "Employed      0\n",
       "Home Owner    0\n",
       "Make          0\n",
       "Model         1\n",
       "Gender        0\n",
       "Age           1\n",
       "Colour        0\n",
       "Stolen        0\n",
       "dtype: int64"
      ]
     },
     "execution_count": 57,
     "metadata": {},
     "output_type": "execute_result"
    }
   ],
   "source": [
    "df_null = df.isnull()\n",
    "df_null.sum()"
   ]
  },
  {
   "cell_type": "code",
   "execution_count": 58,
   "id": "89a23276",
   "metadata": {},
   "outputs": [
    {
     "data": {
      "image/png": "[encoded data removed]",
      "text/plain": [
       "<Figure size 1000x800 with 2 Axes>"
      ]
     },
     "metadata": {},
     "output_type": "display_data"
    }
   ],
   "source": [
    "# Create a mask for the upper triangle\n",
    "mask = np.triu(np.ones_like(corr, dtype=bool))\n",
    "\n",
    "# Set up the matplotlib figure\n",
    "plt.figure(figsize=(10, 8))\n",
    "\n",
    "# Draw the heatmap with the mask and correct aspect ratio\n",
    "heatmap = sns.heatmap(corr, annot=True, cmap='bone', mask=mask, fmt=\".2f\", cbar=True)\n",
    "\n",
    "# Set title\n",
    "plt.title('Correlation Heatmap')\n",
    "\n",
    "# Retrieve the color bar object from the axes and set its label\n",
    "cbar = heatmap.collections[0].colorbar\n",
    "cbar.set_label('Correlation', rotation=270)\n",
    "\n",
    "# Show plot\n",
    "plt.show()\n"
   ]
  },
  {
   "cell_type": "code",
   "execution_count": 59,
   "id": "97527e25",
   "metadata": {},
   "outputs": [
    {
     "name": "stdout",
     "output_type": "stream",
     "text": [
      "    Income   Area Employed Home Owner Make Model Gender Age Colour Stolen\n",
      "92  150600  RURAL        1          1  BMW   NaN      0  19  WHITE      0\n"
     ]
    }
   ],
   "source": [
    "# Check for rows with NaN values in the \"Employed\" column\n",
    "na_model_rows = df[df['Model'].isna()]\n",
    "\n",
    "# Display rows with NaN values in the \"Employed\" column\n",
    "print(na_model_rows)"
   ]
  },
  {
   "cell_type": "code",
   "execution_count": 60,
   "id": "5c12a3f5",
   "metadata": {},
   "outputs": [
    {
     "data": {
      "image/png": "[encoded data removed]",
      "text/plain": [
       "<Figure size 1000x600 with 1 Axes>"
      ]
     },
     "metadata": {},
     "output_type": "display_data"
    }
   ],
   "source": [
    "# Filter the DataFrame to include only rows where Make is 'BMW'\n",
    "df_bmw = df[df['Make'] == 'BMW']\n",
    "\n",
    "# Count the frequency of each BMW model\n",
    "model_counts = df_bmw['Model'].value_counts()\n",
    "\n",
    "# Plot the bar graph\n",
    "plt.figure(figsize=(10, 6))\n",
    "sns.barplot(x=model_counts.index, y=model_counts.values)\n",
    "plt.title('Frequency of BMW Models')\n",
    "plt.xlabel('Model')\n",
    "plt.ylabel('Frequency')\n",
    "plt.xticks(rotation=45)\n",
    "plt.show()"
   ]
  },
  {
   "cell_type": "markdown",
   "id": "1ae06e46",
   "metadata": {},
   "source": [
    "## The majority of the BMW models are 3 Series so its safe to assume he drives a 3 Series"
   ]
  },
  {
   "cell_type": "code",
   "execution_count": 61,
   "id": "ac87784c",
   "metadata": {},
   "outputs": [
    {
     "name": "stdout",
     "output_type": "stream",
     "text": [
      "Income          150600\n",
      "Area             RURAL\n",
      "Employed             1\n",
      "Home Owner           1\n",
      "Make               BMW\n",
      "Model         3 SERIES\n",
      "Gender               0\n",
      "Age                 19\n",
      "Colour           WHITE\n",
      "Stolen               0\n",
      "Name: 92, dtype: object\n"
     ]
    }
   ],
   "source": [
    "# Replace NA values in the \"Model\" column with 3 Series (homeowner)\n",
    "df['Model'].fillna('3 SERIES', inplace=True)\n",
    "na_model_row = df.loc[92]\n",
    "print(na_model_row)"
   ]
  },
  {
   "cell_type": "code",
   "execution_count": 62,
   "id": "27fba634",
   "metadata": {},
   "outputs": [
    {
     "data": {
      "text/plain": [
       "Income        0\n",
       "Area          0\n",
       "Employed      0\n",
       "Home Owner    0\n",
       "Make          0\n",
       "Model         0\n",
       "Gender        0\n",
       "Age           1\n",
       "Colour        0\n",
       "Stolen        0\n",
       "dtype: int64"
      ]
     },
     "execution_count": 62,
     "metadata": {},
     "output_type": "execute_result"
    }
   ],
   "source": [
    "df_null = df.isnull()\n",
    "df_null.sum()"
   ]
  },
  {
   "cell_type": "code",
   "execution_count": 63,
   "id": "6adec3f2",
   "metadata": {},
   "outputs": [
    {
     "name": "stdout",
     "output_type": "stream",
     "text": [
      "    Income   Area Employed Home Owner Make     Model Gender  Age Colour Stolen\n",
      "77   56870  RURAL        0          1  BMW  3 SERIES      1  NaN  BLACK      1\n"
     ]
    }
   ],
   "source": [
    "# Check for rows with NaN values in the \"Employed\" column\n",
    "na_age_rows = df[df['Age'].isna()]\n",
    "\n",
    "# Display rows with NaN values in the \"Employed\" column\n",
    "print(na_age_rows)"
   ]
  },
  {
   "cell_type": "code",
   "execution_count": 64,
   "id": "00174bee",
   "metadata": {},
   "outputs": [
    {
     "data": {
      "image/png": "[encoded data removed]",
      "text/plain": [
       "<Figure size 1000x800 with 2 Axes>"
      ]
     },
     "metadata": {},
     "output_type": "display_data"
    }
   ],
   "source": [
    "# Create a mask for the upper triangle\n",
    "mask = np.triu(np.ones_like(corr, dtype=bool))\n",
    "\n",
    "# Set up the matplotlib figure\n",
    "plt.figure(figsize=(10, 8))\n",
    "\n",
    "# Draw the heatmap with the mask and correct aspect ratio\n",
    "heatmap = sns.heatmap(corr, annot=True, cmap='bone', mask=mask, fmt=\".2f\", cbar=True)\n",
    "\n",
    "# Set title\n",
    "plt.title('Correlation Heatmap')\n",
    "\n",
    "# Retrieve the color bar object from the axes and set its label\n",
    "cbar = heatmap.collections[0].colorbar\n",
    "cbar.set_label('Correlation', rotation=270)\n",
    "\n",
    "# Show plot\n",
    "plt.show()\n"
   ]
  },
  {
   "cell_type": "code",
   "execution_count": 65,
   "id": "d9dcd7fc",
   "metadata": {},
   "outputs": [
    {
     "name": "stderr",
     "output_type": "stream",
     "text": [
      "C:\\Users\\ellio\\AppData\\Local\\Temp\\ipykernel_7280\\2346014650.py:5: SettingWithCopyWarning: \n",
      "A value is trying to be set on a copy of a slice from a DataFrame.\n",
      "Try using .loc[row_indexer,col_indexer] = value instead\n",
      "\n",
      "See the caveats in the documentation: https://pandas.pydata.org/pandas-docs/stable/user_guide/indexing.html#returning-a-view-versus-a-copy\n",
      "  df_age_colour['Age'] = df_age_colour['Age'].astype(int)\n"
     ]
    },
    {
     "data": {
      "image/png": "[encoded data removed]",
      "text/plain": [
       "<Figure size 1000x600 with 1 Axes>"
      ]
     },
     "metadata": {},
     "output_type": "display_data"
    }
   ],
   "source": [
    "# Drop rows with NaN values in 'Age' or 'Colour' columns\n",
    "df_age_colour = df.dropna(subset=['Age', 'Colour'])\n",
    "\n",
    "# Convert 'Age' column to numerical data type\n",
    "df_age_colour['Age'] = df_age_colour['Age'].astype(int)\n",
    "\n",
    "# Plot a violin plot\n",
    "plt.figure(figsize=(10, 6))\n",
    "sns.violinplot(x='Age', y='Colour', data=df_age_colour)\n",
    "plt.title('Distribution of Colour by Age')\n",
    "plt.xlabel('Age')\n",
    "plt.ylabel('Colour')\n",
    "plt.show()"
   ]
  },
  {
   "cell_type": "markdown",
   "id": "e96310d0",
   "metadata": {},
   "source": [
    "## Not really any useful correlation so just drop it"
   ]
  },
  {
   "cell_type": "code",
   "execution_count": 66,
   "id": "6f9192b8",
   "metadata": {},
   "outputs": [
    {
     "data": {
      "text/plain": [
       "Income        False\n",
       "Area          False\n",
       "Employed      False\n",
       "Home Owner    False\n",
       "Make          False\n",
       "Model         False\n",
       "Gender        False\n",
       "Age           False\n",
       "Colour        False\n",
       "Stolen        False\n",
       "dtype: bool"
      ]
     },
     "execution_count": 66,
     "metadata": {},
     "output_type": "execute_result"
    }
   ],
   "source": [
    "df = df.dropna(subset=['Age'])\n",
    "df.isna().any()"
   ]
  },
  {
   "cell_type": "code",
   "execution_count": 69,
   "id": "dbb9101d",
   "metadata": {},
   "outputs": [],
   "source": [
    "#df.to_csv('cwdata_cleaned.csv', index=False)"
   ]
  }
 ],
 "metadata": {
  "kernelspec": {
   "display_name": "Python 3 (ipykernel)",
   "language": "python",
   "name": "python3"
  },
  "language_info": {
   "codemirror_mode": {
    "name": "ipython",
    "version": 3
   },
   "file_extension": ".py",
   "mimetype": "text/x-python",
   "name": "python",
   "nbconvert_exporter": "python",
   "pygments_lexer": "ipython3",
   "version": "3.11.5"
  }
 },
 "nbformat": 4,
 "nbformat_minor": 5
}
