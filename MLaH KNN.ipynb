{
 "cells": [
  {
   "cell_type": "code",
   "execution_count": 1,
   "id": "09de6ade",
   "metadata": {
    "id": "09de6ade"
   },
   "outputs": [],
   "source": [
    "#Import libraries and read dataset\n",
    "import pandas as pd\n",
    "import numpy as np\n",
    "import seaborn as sns\n",
    "import matplotlib as plt\n",
    "from sklearn import preprocessing\n",
    "from sklearn.model_selection import train_test_split\n",
    "from sklearn.preprocessing import StandardScaler\n",
    "from sklearn.linear_model import LinearRegression\n",
    "from sklearn.preprocessing import LabelEncoder\n",
    "from matplotlib import pyplot as plt\n",
    "from sklearn.model_selection import train_test_split\n"
   ]
  },
  {
   "cell_type": "code",
   "execution_count": 2,
   "id": "3fe22a91",
   "metadata": {
    "id": "3fe22a91"
   },
   "outputs": [],
   "source": [
    "df = pd.read_csv('cwdata_cleaned.csv')"
   ]
  },
  {
   "cell_type": "code",
   "execution_count": 3,
   "id": "3d03c35f",
   "metadata": {
    "id": "3d03c35f",
    "outputId": "8f76c473-8eb7-495b-e90b-b7a47dadacd6"
   },
   "outputs": [
    {
     "data": {
      "text/html": [
       "<div>\n",
       "<style scoped>\n",
       "    .dataframe tbody tr th:only-of-type {\n",
       "        vertical-align: middle;\n",
       "    }\n",
       "\n",
       "    .dataframe tbody tr th {\n",
       "        vertical-align: top;\n",
       "    }\n",
       "\n",
       "    .dataframe thead th {\n",
       "        text-align: right;\n",
       "    }\n",
       "</style>\n",
       "<table border=\"1\" class=\"dataframe\">\n",
       "  <thead>\n",
       "    <tr style=\"text-align: right;\">\n",
       "      <th></th>\n",
       "      <th>Income</th>\n",
       "      <th>Area</th>\n",
       "      <th>Employed</th>\n",
       "      <th>Home Owner</th>\n",
       "      <th>Make</th>\n",
       "      <th>Model</th>\n",
       "      <th>Gender</th>\n",
       "      <th>Age</th>\n",
       "      <th>Colour</th>\n",
       "      <th>Stolen</th>\n",
       "    </tr>\n",
       "  </thead>\n",
       "  <tbody>\n",
       "    <tr>\n",
       "      <th>0</th>\n",
       "      <td>76300</td>\n",
       "      <td>RURAL</td>\n",
       "      <td>1</td>\n",
       "      <td>1</td>\n",
       "      <td>BMW</td>\n",
       "      <td>3 SERIES</td>\n",
       "      <td>1</td>\n",
       "      <td>25</td>\n",
       "      <td>BLACK</td>\n",
       "      <td>1</td>\n",
       "    </tr>\n",
       "    <tr>\n",
       "      <th>1</th>\n",
       "      <td>52340</td>\n",
       "      <td>RURAL</td>\n",
       "      <td>0</td>\n",
       "      <td>1</td>\n",
       "      <td>MERCEDES</td>\n",
       "      <td>C CLASS</td>\n",
       "      <td>0</td>\n",
       "      <td>25</td>\n",
       "      <td>GREY</td>\n",
       "      <td>1</td>\n",
       "    </tr>\n",
       "    <tr>\n",
       "      <th>2</th>\n",
       "      <td>150600</td>\n",
       "      <td>RURAL</td>\n",
       "      <td>1</td>\n",
       "      <td>1</td>\n",
       "      <td>BMW</td>\n",
       "      <td>3 SERIES</td>\n",
       "      <td>0</td>\n",
       "      <td>19</td>\n",
       "      <td>WHITE</td>\n",
       "      <td>1</td>\n",
       "    </tr>\n",
       "    <tr>\n",
       "      <th>3</th>\n",
       "      <td>50000</td>\n",
       "      <td>RURAL</td>\n",
       "      <td>1</td>\n",
       "      <td>1</td>\n",
       "      <td>VOLKSWAGON</td>\n",
       "      <td>GOLF</td>\n",
       "      <td>1</td>\n",
       "      <td>55</td>\n",
       "      <td>BLACK</td>\n",
       "      <td>1</td>\n",
       "    </tr>\n",
       "    <tr>\n",
       "      <th>4</th>\n",
       "      <td>15000</td>\n",
       "      <td>RURAL</td>\n",
       "      <td>1</td>\n",
       "      <td>1</td>\n",
       "      <td>PEUGEOT</td>\n",
       "      <td>107</td>\n",
       "      <td>0</td>\n",
       "      <td>54</td>\n",
       "      <td>YELLOW</td>\n",
       "      <td>0</td>\n",
       "    </tr>\n",
       "  </tbody>\n",
       "</table>\n",
       "</div>"
      ],
      "text/plain": [
       "   Income   Area  Employed  Home Owner        Make     Model  Gender  Age  \\\n",
       "0   76300  RURAL         1           1         BMW  3 SERIES       1   25   \n",
       "1   52340  RURAL         0           1    MERCEDES   C CLASS       0   25   \n",
       "2  150600  RURAL         1           1         BMW  3 SERIES       0   19   \n",
       "3   50000  RURAL         1           1  VOLKSWAGON      GOLF       1   55   \n",
       "4   15000  RURAL         1           1     PEUGEOT       107       0   54   \n",
       "\n",
       "   Colour  Stolen  \n",
       "0   BLACK       1  \n",
       "1    GREY       1  \n",
       "2   WHITE       1  \n",
       "3   BLACK       1  \n",
       "4  YELLOW       0  "
      ]
     },
     "execution_count": 3,
     "metadata": {},
     "output_type": "execute_result"
    }
   ],
   "source": [
    "df.head()"
   ]
  },
  {
   "cell_type": "code",
   "execution_count": 4,
   "id": "4452638f",
   "metadata": {
    "id": "4452638f"
   },
   "outputs": [],
   "source": [
    "# Label encoding for categorical variables\n",
    "label_encoder = LabelEncoder()\n",
    "df['Area'] = label_encoder.fit_transform(df['Area'])\n",
    "df['Make'] = label_encoder.fit_transform(df['Make'])\n",
    "df['Model'] = label_encoder.fit_transform(df['Model'])\n",
    "df['Colour'] = label_encoder.fit_transform(df['Colour'])"
   ]
  },
  {
   "cell_type": "code",
   "execution_count": 5,
   "id": "c9293574",
   "metadata": {
    "id": "c9293574",
    "outputId": "e359f502-bdf0-4cce-9e8b-b209c0b395b5"
   },
   "outputs": [
    {
     "data": {
      "text/html": [
       "<div>\n",
       "<style scoped>\n",
       "    .dataframe tbody tr th:only-of-type {\n",
       "        vertical-align: middle;\n",
       "    }\n",
       "\n",
       "    .dataframe tbody tr th {\n",
       "        vertical-align: top;\n",
       "    }\n",
       "\n",
       "    .dataframe thead th {\n",
       "        text-align: right;\n",
       "    }\n",
       "</style>\n",
       "<table border=\"1\" class=\"dataframe\">\n",
       "  <thead>\n",
       "    <tr style=\"text-align: right;\">\n",
       "      <th></th>\n",
       "      <th>Income</th>\n",
       "      <th>Area</th>\n",
       "      <th>Employed</th>\n",
       "      <th>Home Owner</th>\n",
       "      <th>Make</th>\n",
       "      <th>Model</th>\n",
       "      <th>Gender</th>\n",
       "      <th>Age</th>\n",
       "      <th>Colour</th>\n",
       "      <th>Stolen</th>\n",
       "    </tr>\n",
       "  </thead>\n",
       "  <tbody>\n",
       "    <tr>\n",
       "      <th>0</th>\n",
       "      <td>76300</td>\n",
       "      <td>0</td>\n",
       "      <td>1</td>\n",
       "      <td>1</td>\n",
       "      <td>1</td>\n",
       "      <td>4</td>\n",
       "      <td>1</td>\n",
       "      <td>25</td>\n",
       "      <td>0</td>\n",
       "      <td>1</td>\n",
       "    </tr>\n",
       "    <tr>\n",
       "      <th>1</th>\n",
       "      <td>52340</td>\n",
       "      <td>0</td>\n",
       "      <td>0</td>\n",
       "      <td>1</td>\n",
       "      <td>5</td>\n",
       "      <td>14</td>\n",
       "      <td>0</td>\n",
       "      <td>25</td>\n",
       "      <td>3</td>\n",
       "      <td>1</td>\n",
       "    </tr>\n",
       "    <tr>\n",
       "      <th>2</th>\n",
       "      <td>150600</td>\n",
       "      <td>0</td>\n",
       "      <td>1</td>\n",
       "      <td>1</td>\n",
       "      <td>1</td>\n",
       "      <td>4</td>\n",
       "      <td>0</td>\n",
       "      <td>19</td>\n",
       "      <td>7</td>\n",
       "      <td>1</td>\n",
       "    </tr>\n",
       "    <tr>\n",
       "      <th>3</th>\n",
       "      <td>50000</td>\n",
       "      <td>0</td>\n",
       "      <td>1</td>\n",
       "      <td>1</td>\n",
       "      <td>9</td>\n",
       "      <td>17</td>\n",
       "      <td>1</td>\n",
       "      <td>55</td>\n",
       "      <td>0</td>\n",
       "      <td>1</td>\n",
       "    </tr>\n",
       "    <tr>\n",
       "      <th>4</th>\n",
       "      <td>15000</td>\n",
       "      <td>0</td>\n",
       "      <td>1</td>\n",
       "      <td>1</td>\n",
       "      <td>6</td>\n",
       "      <td>1</td>\n",
       "      <td>0</td>\n",
       "      <td>54</td>\n",
       "      <td>8</td>\n",
       "      <td>0</td>\n",
       "    </tr>\n",
       "  </tbody>\n",
       "</table>\n",
       "</div>"
      ],
      "text/plain": [
       "   Income  Area  Employed  Home Owner  Make  Model  Gender  Age  Colour  \\\n",
       "0   76300     0         1           1     1      4       1   25       0   \n",
       "1   52340     0         0           1     5     14       0   25       3   \n",
       "2  150600     0         1           1     1      4       0   19       7   \n",
       "3   50000     0         1           1     9     17       1   55       0   \n",
       "4   15000     0         1           1     6      1       0   54       8   \n",
       "\n",
       "   Stolen  \n",
       "0       1  \n",
       "1       1  \n",
       "2       1  \n",
       "3       1  \n",
       "4       0  "
      ]
     },
     "execution_count": 5,
     "metadata": {},
     "output_type": "execute_result"
    }
   ],
   "source": [
    "df.head()"
   ]
  },
  {
   "cell_type": "code",
   "execution_count": 6,
   "id": "f0b1b66b",
   "metadata": {
    "id": "f0b1b66b"
   },
   "outputs": [],
   "source": [
    "#Split the data into train/test\n",
    "X = df.drop(columns='Stolen')\n",
    "y = df['Stolen']\n",
    "X_train, X_test, y_train, y_test = train_test_split(X, y, test_size = 0.3)"
   ]
  },
  {
   "cell_type": "code",
   "execution_count": 7,
   "id": "2f04567a",
   "metadata": {
    "id": "2f04567a",
    "outputId": "25407baa-ad56-4224-b49a-e14413904429"
   },
   "outputs": [
    {
     "name": "stdout",
     "output_type": "stream",
     "text": [
      "[[0.34974359 0.         1.         1.         0.11111111 0.16666667\n",
      "  0.5        0.37837838 0.        ]\n",
      " [0.33333333 0.         1.         1.         0.11111111 0.16666667\n",
      "  0.         0.27027027 0.875     ]\n",
      " [0.08012821 1.         0.         0.         0.88888889 0.45833333\n",
      "  0.         0.18918919 1.        ]\n",
      " [0.2474359  0.         1.         1.         0.11111111 0.16666667\n",
      "  0.5        0.72972973 0.        ]\n",
      " [0.07884615 1.         0.         0.         0.33333333 0.91666667\n",
      "  0.5        0.         0.75      ]\n",
      " [0.27923077 0.         1.         1.         0.55555556 0.25\n",
      "  0.5        0.24324324 0.875     ]\n",
      " [0.25224359 0.         0.         1.         0.11111111 0.16666667\n",
      "  0.5        0.18918919 0.        ]\n",
      " [0.29166667 1.         1.         1.         1.         0.83333333\n",
      "  0.         0.40540541 0.        ]\n",
      " [0.28878205 0.         1.         1.         0.         0.375\n",
      "  0.         0.67567568 1.        ]\n",
      " [0.48237179 0.         0.         0.         0.55555556 0.58333333\n",
      "  0.         0.08108108 0.375     ]\n",
      " [0.13782051 1.         1.         0.         0.77777778 0.79166667\n",
      "  0.         0.18918919 0.75      ]\n",
      " [0.96538462 0.         1.         1.         0.11111111 0.16666667\n",
      "  0.         0.02702703 0.875     ]\n",
      " [0.40528846 1.         1.         1.         0.55555556 0.58333333\n",
      "  0.5        0.37837838 0.375     ]\n",
      " [0.07910256 0.         0.         1.         0.55555556 0.58333333\n",
      "  0.         0.18918919 0.375     ]\n",
      " [0.33551282 0.         0.         1.         0.11111111 0.08333333\n",
      "  0.5        0.97297297 0.375     ]\n",
      " [0.24358974 0.         0.         1.         0.55555556 0.58333333\n",
      "  0.         0.08108108 0.875     ]\n",
      " [0.09615385 0.         1.         1.         0.66666667 0.04166667\n",
      "  0.         0.97297297 1.        ]\n",
      " [0.96538462 0.         1.         1.         0.11111111 0.16666667\n",
      "  0.         0.02702703 0.875     ]\n",
      " [0.29166667 1.         1.         1.         1.         0.70833333\n",
      "  0.         0.40540541 0.        ]\n",
      " [0.07910256 1.         0.         0.         0.22222222 0.625\n",
      "  0.5        0.21621622 0.75      ]\n",
      " [0.3075641  0.         0.         1.         0.55555556 0.58333333\n",
      "  0.5        0.67567568 0.        ]\n",
      " [0.27211538 0.         1.         1.         0.55555556 0.58333333\n",
      "  1.         0.24324324 0.375     ]\n",
      " [0.27564103 0.         0.         1.         0.55555556 0.58333333\n",
      "  0.         0.64864865 0.875     ]\n",
      " [0.24134615 0.         0.         1.         0.11111111 0.16666667\n",
      "  0.5        0.18918919 0.875     ]\n",
      " [0.28846154 0.         0.         1.         0.55555556 0.58333333\n",
      "  0.         1.         0.875     ]\n",
      " [0.29826923 0.         1.         1.         0.11111111 0.16666667\n",
      "  0.         0.37837838 0.375     ]\n",
      " [0.48923077 0.         1.         1.         0.         0.33333333\n",
      "  0.5        0.02702703 0.75      ]\n",
      " [0.         0.         0.         1.         0.77777778 0.79166667\n",
      "  0.5        0.18918919 0.25      ]\n",
      " [0.34839744 0.         0.         1.         0.11111111 0.16666667\n",
      "  0.         0.72972973 0.        ]\n",
      " [0.55480769 0.         1.         1.         0.11111111 0.16666667\n",
      "  0.         0.72972973 0.        ]\n",
      " [0.22153846 1.         0.         1.         0.88888889 0.875\n",
      "  1.         0.37837838 0.875     ]\n",
      " [0.26923077 0.         0.         1.         0.55555556 0.58333333\n",
      "  0.         0.16216216 0.875     ]\n",
      " [0.27714744 1.         1.         1.         0.88888889 0.875\n",
      "  0.         0.43243243 0.125     ]\n",
      " [0.4775641  0.         1.         1.         0.55555556 0.58333333\n",
      "  0.5        0.13513514 0.875     ]\n",
      " [0.33551282 0.         0.         1.         0.55555556 0.58333333\n",
      "  0.         0.18918919 0.375     ]\n",
      " [0.17003205 1.         0.         1.         0.66666667 0.04166667\n",
      "  0.         0.94594595 1.        ]\n",
      " [0.48910256 0.         1.         1.         0.11111111 0.16666667\n",
      "  0.5        0.18918919 0.        ]\n",
      " [0.48910256 0.         1.         1.         0.55555556 0.58333333\n",
      "  0.         0.27027027 0.375     ]\n",
      " [0.27714744 1.         0.         0.         0.88888889 0.66666667\n",
      "  0.5        0.43243243 0.5       ]\n",
      " [0.28846154 0.         1.         1.         0.11111111 0.16666667\n",
      "  0.         0.18918919 0.875     ]\n",
      " [0.3075641  0.         1.         1.         0.55555556 0.58333333\n",
      "  0.         0.21621622 0.875     ]\n",
      " [0.09762821 0.         1.         1.         0.88888889 0.66666667\n",
      "  0.5        0.37837838 0.125     ]\n",
      " [0.34102564 0.         1.         1.         0.11111111 0.16666667\n",
      "  0.         0.43243243 0.375     ]\n",
      " [0.07884615 0.         0.         1.         0.66666667 0.125\n",
      "  0.5        0.13513514 0.875     ]\n",
      " [0.27923077 0.         1.         1.         0.55555556 0.58333333\n",
      "  0.5        0.24324324 0.875     ]\n",
      " [0.07910256 1.         0.         0.         0.         0.29166667\n",
      "  0.5        0.27027027 0.75      ]\n",
      " [0.0349359  0.         1.         1.         0.11111111 1.\n",
      "  0.5        0.08108108 0.        ]\n",
      " [0.04198718 1.         1.         0.         0.88888889 0.5\n",
      "  0.5        0.64864865 0.75      ]\n",
      " [0.27714744 1.         1.         0.         0.88888889 0.66666667\n",
      "  0.         0.43243243 0.125     ]\n",
      " [0.22820513 0.         1.         1.         0.55555556 0.58333333\n",
      "  0.         0.43243243 0.        ]\n",
      " [0.29826923 1.         0.         0.         0.         0.41666667\n",
      "  0.5        0.08108108 0.75      ]\n",
      " [0.2700641  1.         1.         1.         0.44444444 0.75\n",
      "  0.5        0.27027027 0.75      ]\n",
      " [0.07884615 1.         0.         0.         0.11111111 1.\n",
      "  0.         0.45945946 0.125     ]\n",
      " [0.22564103 0.         1.         1.         0.66666667 0.04166667\n",
      "  0.         0.18918919 1.        ]\n",
      " [0.2700641  0.         1.         1.         0.44444444 0.75\n",
      "  0.5        0.27027027 0.75      ]\n",
      " [0.32051282 0.         1.         1.         1.         0.70833333\n",
      "  0.5        1.         0.        ]\n",
      " [0.14391026 0.         1.         1.         0.88888889 0.875\n",
      "  0.         0.18918919 0.5       ]\n",
      " [1.         0.         0.         1.         0.11111111 0.16666667\n",
      "  0.         0.72972973 0.        ]\n",
      " [0.07910256 1.         1.         1.         0.11111111 0.\n",
      "  0.5        0.2972973  0.125     ]\n",
      " [0.96538462 0.         1.         1.         0.11111111 0.16666667\n",
      "  0.5        0.97297297 0.        ]\n",
      " [0.0349359  0.         1.         1.         1.         0.83333333\n",
      "  0.         0.97297297 0.        ]\n",
      " [0.29839744 1.         1.         0.         0.88888889 0.875\n",
      "  0.5        0.37837838 0.75      ]\n",
      " [0.33557692 0.         0.         1.         0.66666667 0.20833333\n",
      "  1.         0.37837838 0.        ]\n",
      " [0.30544872 0.         0.         1.         0.55555556 0.58333333\n",
      "  0.         0.72972973 0.375     ]\n",
      " [0.24134615 0.         1.         1.         0.55555556 0.58333333\n",
      "  0.5        0.94594595 0.        ]\n",
      " [0.34839744 1.         0.         1.         0.11111111 0.16666667\n",
      "  0.         0.13513514 0.        ]\n",
      " [0.20673077 1.         1.         0.         0.66666667 0.04166667\n",
      "  0.5        0.91891892 0.        ]\n",
      " [0.48352564 0.         1.         1.         0.11111111 0.16666667\n",
      "  0.         0.37837838 0.375     ]\n",
      " [0.24935897 0.         1.         1.         0.88888889 0.875\n",
      "  0.5        0.27027027 0.75      ]\n",
      " [0.07913462 1.         0.         0.         0.55555556 0.25\n",
      "  0.         0.18918919 0.75      ]\n",
      " [0.27724359 0.         1.         1.         0.66666667 0.04166667\n",
      "  0.         0.43243243 0.        ]\n",
      " [0.07211538 1.         0.         1.         0.         0.33333333\n",
      "  0.         0.75675676 0.125     ]\n",
      " [0.54166667 1.         1.         1.         0.11111111 0.16666667\n",
      "  0.5        0.37837838 0.375     ]\n",
      " [0.35403846 0.         1.         1.         0.11111111 0.16666667\n",
      "  0.         0.13513514 0.375     ]\n",
      " [0.20801282 0.         0.         0.         0.66666667 0.04166667\n",
      "  0.5        0.18918919 0.625     ]\n",
      " [0.28846154 0.         0.         1.         0.55555556 0.58333333\n",
      "  0.         0.48648649 0.375     ]\n",
      " [0.25551282 0.         0.         1.         0.11111111 0.16666667\n",
      "  0.5        0.67567568 0.        ]\n",
      " [0.26429487 0.         0.         1.         0.55555556 0.58333333\n",
      "  0.5        0.51351351 0.875     ]\n",
      " [0.30544872 0.         1.         1.         0.11111111 0.16666667\n",
      "  0.         0.43243243 0.375     ]\n",
      " [0.48269231 0.         1.         1.         0.11111111 0.16666667\n",
      "  0.5        0.18918919 0.        ]\n",
      " [0.25384615 0.         1.         1.         0.11111111 0.16666667\n",
      "  0.5        0.72972973 0.        ]\n",
      " [0.03205128 0.         1.         1.         0.66666667 0.04166667\n",
      "  0.         0.97297297 1.        ]]\n"
     ]
    }
   ],
   "source": [
    "#Normalise/Scale the feature sets\n",
    "from sklearn.preprocessing import MinMaxScaler\n",
    "scaler = MinMaxScaler()\n",
    "#scale everything so its between 0 and 1 e.g\n",
    "X_train = scaler.fit_transform(X_train)\n",
    "X_test = scaler.transform(X_test)\n",
    "print(X_train)"
   ]
  },
  {
   "cell_type": "markdown",
   "id": "30189c6d",
   "metadata": {
    "id": "30189c6d"
   },
   "source": [
    "# KNN algorithm"
   ]
  },
  {
   "cell_type": "code",
   "execution_count": 8,
   "id": "4bb9cca3",
   "metadata": {
    "id": "4bb9cca3",
    "outputId": "22e576ca-2dbe-4877-9c8f-0480e604f55c"
   },
   "outputs": [
    {
     "name": "stdout",
     "output_type": "stream",
     "text": [
      "Best n_neighbors value: 7\n",
      "Best cross-validation score: 0.7566176470588235\n"
     ]
    }
   ],
   "source": [
    "from sklearn.model_selection import GridSearchCV\n",
    "#Train the KNN algorithm\n",
    "from sklearn.neighbors import KNeighborsClassifier\n",
    "\n",
    "# Define the parameter grid with only odd values for n_neighbors\n",
    "param_grid = {'n_neighbors': np.arange(1, 21, 2)}  \n",
    "\n",
    "# Instantiate the KNN classifier\n",
    "knn = KNeighborsClassifier()\n",
    "\n",
    "# Instantiate GridSearchCV\n",
    "grid_search = GridSearchCV(knn, param_grid, cv=5, scoring='accuracy')\n",
    "\n",
    "# Fit the grid search to the data\n",
    "grid_search.fit(X_train, y_train)\n",
    "\n",
    "# Print the best parameter\n",
    "print(\"Best n_neighbors value:\", grid_search.best_params_['n_neighbors'])\n",
    "\n",
    "# Optionally, you can print the best score as well\n",
    "print(\"Best cross-validation score:\", grid_search.best_score_)\n"
   ]
  },
  {
   "cell_type": "code",
   "execution_count": 9,
   "id": "bffae80a",
   "metadata": {
    "id": "bffae80a",
    "outputId": "3e9f7c65-33da-4ac5-96ec-73fd4fed5446"
   },
   "outputs": [
    {
     "data": {
      "text/html": [
       "<style>#sk-container-id-1 {color: black;}#sk-container-id-1 pre{padding: 0;}#sk-container-id-1 div.sk-toggleable {background-color: white;}#sk-container-id-1 label.sk-toggleable__label {cursor: pointer;display: block;width: 100%;margin-bottom: 0;padding: 0.3em;box-sizing: border-box;text-align: center;}#sk-container-id-1 label.sk-toggleable__label-arrow:before {content: \"▸\";float: left;margin-right: 0.25em;color: #696969;}#sk-container-id-1 label.sk-toggleable__label-arrow:hover:before {color: black;}#sk-container-id-1 div.sk-estimator:hover label.sk-toggleable__label-arrow:before {color: black;}#sk-container-id-1 div.sk-toggleable__content {max-height: 0;max-width: 0;overflow: hidden;text-align: left;background-color: #f0f8ff;}#sk-container-id-1 div.sk-toggleable__content pre {margin: 0.2em;color: black;border-radius: 0.25em;background-color: #f0f8ff;}#sk-container-id-1 input.sk-toggleable__control:checked~div.sk-toggleable__content {max-height: 200px;max-width: 100%;overflow: auto;}#sk-container-id-1 input.sk-toggleable__control:checked~label.sk-toggleable__label-arrow:before {content: \"▾\";}#sk-container-id-1 div.sk-estimator input.sk-toggleable__control:checked~label.sk-toggleable__label {background-color: #d4ebff;}#sk-container-id-1 div.sk-label input.sk-toggleable__control:checked~label.sk-toggleable__label {background-color: #d4ebff;}#sk-container-id-1 input.sk-hidden--visually {border: 0;clip: rect(1px 1px 1px 1px);clip: rect(1px, 1px, 1px, 1px);height: 1px;margin: -1px;overflow: hidden;padding: 0;position: absolute;width: 1px;}#sk-container-id-1 div.sk-estimator {font-family: monospace;background-color: #f0f8ff;border: 1px dotted black;border-radius: 0.25em;box-sizing: border-box;margin-bottom: 0.5em;}#sk-container-id-1 div.sk-estimator:hover {background-color: #d4ebff;}#sk-container-id-1 div.sk-parallel-item::after {content: \"\";width: 100%;border-bottom: 1px solid gray;flex-grow: 1;}#sk-container-id-1 div.sk-label:hover label.sk-toggleable__label {background-color: #d4ebff;}#sk-container-id-1 div.sk-serial::before {content: \"\";position: absolute;border-left: 1px solid gray;box-sizing: border-box;top: 0;bottom: 0;left: 50%;z-index: 0;}#sk-container-id-1 div.sk-serial {display: flex;flex-direction: column;align-items: center;background-color: white;padding-right: 0.2em;padding-left: 0.2em;position: relative;}#sk-container-id-1 div.sk-item {position: relative;z-index: 1;}#sk-container-id-1 div.sk-parallel {display: flex;align-items: stretch;justify-content: center;background-color: white;position: relative;}#sk-container-id-1 div.sk-item::before, #sk-container-id-1 div.sk-parallel-item::before {content: \"\";position: absolute;border-left: 1px solid gray;box-sizing: border-box;top: 0;bottom: 0;left: 50%;z-index: -1;}#sk-container-id-1 div.sk-parallel-item {display: flex;flex-direction: column;z-index: 1;position: relative;background-color: white;}#sk-container-id-1 div.sk-parallel-item:first-child::after {align-self: flex-end;width: 50%;}#sk-container-id-1 div.sk-parallel-item:last-child::after {align-self: flex-start;width: 50%;}#sk-container-id-1 div.sk-parallel-item:only-child::after {width: 0;}#sk-container-id-1 div.sk-dashed-wrapped {border: 1px dashed gray;margin: 0 0.4em 0.5em 0.4em;box-sizing: border-box;padding-bottom: 0.4em;background-color: white;}#sk-container-id-1 div.sk-label label {font-family: monospace;font-weight: bold;display: inline-block;line-height: 1.2em;}#sk-container-id-1 div.sk-label-container {text-align: center;}#sk-container-id-1 div.sk-container {/* jupyter's `normalize.less` sets `[hidden] { display: none; }` but bootstrap.min.css set `[hidden] { display: none !important; }` so we also need the `!important` here to be able to override the default hidden behavior on the sphinx rendered scikit-learn.org. See: https://github.com/scikit-learn/scikit-learn/issues/21755 */display: inline-block !important;position: relative;}#sk-container-id-1 div.sk-text-repr-fallback {display: none;}</style><div id=\"sk-container-id-1\" class=\"sk-top-container\"><div class=\"sk-text-repr-fallback\"><pre>KNeighborsClassifier(n_neighbors=7)</pre><b>In a Jupyter environment, please rerun this cell to show the HTML representation or trust the notebook. <br />On GitHub, the HTML representation is unable to render, please try loading this page with nbviewer.org.</b></div><div class=\"sk-container\" hidden><div class=\"sk-item\"><div class=\"sk-estimator sk-toggleable\"><input class=\"sk-toggleable__control sk-hidden--visually\" id=\"sk-estimator-id-1\" type=\"checkbox\" checked><label for=\"sk-estimator-id-1\" class=\"sk-toggleable__label sk-toggleable__label-arrow\">KNeighborsClassifier</label><div class=\"sk-toggleable__content\"><pre>KNeighborsClassifier(n_neighbors=7)</pre></div></div></div></div></div>"
      ],
      "text/plain": [
       "KNeighborsClassifier(n_neighbors=7)"
      ]
     },
     "execution_count": 9,
     "metadata": {},
     "output_type": "execute_result"
    }
   ],
   "source": [
    "#Train the KNN algorithm\n",
    "from sklearn.neighbors import KNeighborsClassifier\n",
    "\n",
    "knn = KNeighborsClassifier(n_neighbors = grid_search.best_params_['n_neighbors']) ##TODO FIND BEST VALUE FOR K\n",
    "# Use training data to train\n",
    "knn.fit(X_train, y_train)\n"
   ]
  },
  {
   "cell_type": "code",
   "execution_count": 10,
   "id": "d89106d7",
   "metadata": {
    "id": "d89106d7",
    "outputId": "fdb9eab7-4aa1-41fe-c103-e48d3178abff"
   },
   "outputs": [
    {
     "data": {
      "text/plain": [
       "0.75"
      ]
     },
     "execution_count": 10,
     "metadata": {},
     "output_type": "execute_result"
    }
   ],
   "source": [
    "#Print the classification accuracy of the model\n",
    "from sklearn.metrics import accuracy_score\n",
    "y_pred = knn.predict(X_test)\n",
    "accuracy_score(y_test, y_pred)"
   ]
  },
  {
   "cell_type": "code",
   "execution_count": 11,
   "id": "c890a255",
   "metadata": {
    "id": "c890a255",
    "outputId": "93166200-d474-4962-cd01-f61c7dd9c1f7"
   },
   "outputs": [
    {
     "data": {
      "text/plain": [
       "0.7682926829268293"
      ]
     },
     "execution_count": 11,
     "metadata": {},
     "output_type": "execute_result"
    }
   ],
   "source": [
    "#Predict the class using the test data\n",
    "y_pred2 = knn.predict(X_train)\n",
    "accuracy_score(y_train, y_pred2)"
   ]
  },
  {
   "cell_type": "markdown",
   "id": "db84e986",
   "metadata": {
    "id": "db84e986"
   },
   "source": [
    "# Logistic Regression"
   ]
  },
  {
   "cell_type": "code",
   "execution_count": 12,
   "id": "8e0451b7",
   "metadata": {
    "id": "8e0451b7"
   },
   "outputs": [],
   "source": [
    "#Use Logistic Regression\n",
    "from sklearn.linear_model import LogisticRegression\n",
    "\n",
    "# Initialize logistic regression model\n",
    "logis = LogisticRegression()\n",
    "\n",
    "# Train the model on the training data\n",
    "logmodel = logis.fit(X_train, y_train)\n",
    "\n",
    "# Predict on the testing data\n",
    "#y_pred = logis.predict(X_test)\n"
   ]
  },
  {
   "cell_type": "code",
   "execution_count": 13,
   "id": "51ae1af1",
   "metadata": {
    "id": "51ae1af1",
    "outputId": "a8e8f8b7-2e57-419b-f456-ed0abbf5ed52"
   },
   "outputs": [
    {
     "name": "stdout",
     "output_type": "stream",
     "text": [
      "Accuracy of Logistic Regression classifier on training set:  0.84\n",
      "Accuracy of Logistic Regression classifier on test set:  0.75\n"
     ]
    }
   ],
   "source": [
    "#Print the classification accuracy of the model\n",
    "print('Accuracy of Logistic Regression classifier on training set: {: .2f}'.format(logmodel.score(X_train, y_train)))\n",
    "print('Accuracy of Logistic Regression classifier on test set: {: .2f}'.format(logmodel.score(X_test, y_test)))"
   ]
  },
  {
   "cell_type": "code",
   "execution_count": 14,
   "id": "d0af028e",
   "metadata": {
    "id": "d0af028e",
    "outputId": "c1ed1827-72d9-4725-ea4f-b89954b2906e"
   },
   "outputs": [
    {
     "data": {
      "text/plain": [
       "0.75"
      ]
     },
     "execution_count": 14,
     "metadata": {},
     "output_type": "execute_result"
    }
   ],
   "source": [
    "#What's the classification accuracy of the model?\n",
    "accuracy_score(y_test, y_pred)"
   ]
  },
  {
   "cell_type": "code",
   "execution_count": 15,
   "id": "befe5110",
   "metadata": {
    "id": "befe5110",
    "outputId": "27fa050e-36a2-4c9f-f2f9-b14fbe3a8708"
   },
   "outputs": [
    {
     "name": "stdout",
     "output_type": "stream",
     "text": [
      "Accuracy: 0.75\n",
      "Precision: 0.7083333333333334\n",
      "Recall: 0.8947368421052632\n",
      "F1-score: 0.7906976744186046\n",
      "Confusion Matrix:\n",
      "[[10  7]\n",
      " [ 2 17]]\n"
     ]
    }
   ],
   "source": [
    "from sklearn.metrics import accuracy_score, precision_score, recall_score, f1_score, confusion_matrix\n",
    "\n",
    "# Accuracy\n",
    "accuracy = accuracy_score(y_test, y_pred)\n",
    "print(\"Accuracy:\", accuracy)\n",
    "\n",
    "# Precision\n",
    "precision = precision_score(y_test, y_pred)\n",
    "print(\"Precision:\", precision)\n",
    "\n",
    "# Recall - Out of the total positive, what percentage are predicted positive. It is the same as TPR (true positive rate).\n",
    "recall = recall_score(y_test, y_pred)\n",
    "print(\"Recall:\", recall)\n",
    "\n",
    "# F1-score - It is the harmonic mean of precision and recall. It takes both false positive and false negatives into account.\n",
    "#            Therefore, it performs well on an imbalanced dataset.\n",
    "f1 = f1_score(y_test, y_pred)\n",
    "print(\"F1-score:\", f1)\n",
    "\n",
    "# Confusion Matrix\n",
    "conf_matrix = confusion_matrix(y_test, y_pred)\n",
    "print(\"Confusion Matrix:\")\n",
    "print(conf_matrix)"
   ]
  },
  {
   "cell_type": "code",
   "execution_count": 16,
   "id": "7f90c7f2",
   "metadata": {
    "id": "7f90c7f2",
    "outputId": "8653f1d1-e09c-4040-db4c-068c2e354dcc"
   },
   "outputs": [
    {
     "name": "stdout",
     "output_type": "stream",
     "text": [
      "Classification Report:\n",
      "              precision    recall  f1-score   support\n",
      "\n",
      "           0       0.83      0.59      0.69        17\n",
      "           1       0.71      0.89      0.79        19\n",
      "\n",
      "    accuracy                           0.75        36\n",
      "   macro avg       0.77      0.74      0.74        36\n",
      "weighted avg       0.77      0.75      0.74        36\n",
      "\n"
     ]
    }
   ],
   "source": [
    "from sklearn.metrics import classification_report\n",
    "\n",
    "# Generate classification report\n",
    "report = classification_report(y_test, y_pred)\n",
    "\n",
    "# Print the report\n",
    "print(\"Classification Report:\")\n",
    "print(report)"
   ]
  },
  {
   "cell_type": "code",
   "execution_count": 17,
   "id": "5c8b1a09",
   "metadata": {
    "id": "5c8b1a09",
    "outputId": "09185c1c-a9c7-4524-9e86-d526189b04e5"
   },
   "outputs": [
    {
     "name": "stdout",
     "output_type": "stream",
     "text": [
      "[1 1 0 0 1 1 1 1 1 1 1 0 1 1 1 0 1 0 0 1 0 1 1 1 0 0 0 0 0 1 1 1 1 1 0 0]\n"
     ]
    }
   ],
   "source": [
    "#Predict the class using the test data\n",
    "y_pred = logis.predict(X_test)\n",
    "print(y_pred)"
   ]
  },
  {
   "cell_type": "code",
   "execution_count": 18,
   "id": "8b1746fb",
   "metadata": {
    "id": "8b1746fb",
    "outputId": "838caae3-e425-4bd9-bfb1-88723b876e8c"
   },
   "outputs": [
    {
     "name": "stdout",
     "output_type": "stream",
     "text": [
      "Accuracy: 0.75\n",
      "Precision: 0.7083333333333334\n",
      "Recall: 0.8947368421052632\n",
      "F1-score: 0.7906976744186046\n",
      "Confusion Matrix:\n",
      "[[10  7]\n",
      " [ 2 17]]\n",
      "Classification Report:\n",
      "              precision    recall  f1-score   support\n",
      "\n",
      "           0       0.83      0.59      0.69        17\n",
      "           1       0.71      0.89      0.79        19\n",
      "\n",
      "    accuracy                           0.75        36\n",
      "   macro avg       0.77      0.74      0.74        36\n",
      "weighted avg       0.77      0.75      0.74        36\n",
      "\n"
     ]
    }
   ],
   "source": [
    "from sklearn.metrics import accuracy_score, precision_score, recall_score, f1_score, confusion_matrix, classification_report\n",
    "\n",
    "# Evaluate the trained KNN model on the test set\n",
    "y_pred = knn.predict(X_test)\n",
    "\n",
    "# Calculate Accuracy\n",
    "accuracy = accuracy_score(y_test, y_pred)\n",
    "print(\"Accuracy:\", accuracy)\n",
    "\n",
    "# Calculate Precision\n",
    "precision = precision_score(y_test, y_pred)\n",
    "print(\"Precision:\", precision)\n",
    "\n",
    "# Calculate Recall\n",
    "recall = recall_score(y_test, y_pred)\n",
    "print(\"Recall:\", recall)\n",
    "\n",
    "# Calculate F1-score\n",
    "f1 = f1_score(y_test, y_pred)\n",
    "print(\"F1-score:\", f1)\n",
    "\n",
    "# Generate Confusion Matrix\n",
    "conf_matrix = confusion_matrix(y_test, y_pred)\n",
    "print(\"Confusion Matrix:\")\n",
    "print(conf_matrix)\n",
    "\n",
    "# Generate Classification Report\n",
    "report = classification_report(y_test, y_pred)\n",
    "print(\"Classification Report:\")\n",
    "print(report)\n"
   ]
  },
  {
   "cell_type": "code",
   "execution_count": 19,
   "id": "c6397c20",
   "metadata": {
    "id": "c6397c20",
    "outputId": "15d5c423-41b8-41f3-e90f-965b5b7ee091"
   },
   "outputs": [
    {
     "data": {
      "image/png": "[encoded data removed]",
      "text/plain": [
       "<Figure size 800x600 with 1 Axes>"
      ]
     },
     "metadata": {},
     "output_type": "display_data"
    },
    {
     "data": {
      "image/png": "[encoded data removed]",
      "text/plain": [
       "<Figure size 800x600 with 1 Axes>"
      ]
     },
     "metadata": {},
     "output_type": "display_data"
    },
    {
     "data": {
      "image/png": "[encoded data removed]",
      "text/plain": [
       "<Figure size 800x600 with 1 Axes>"
      ]
     },
     "metadata": {},
     "output_type": "display_data"
    }
   ],
   "source": [
    "# Confusion Matrix Visualization\n",
    "plt.figure(figsize=(8, 6))\n",
    "sns.heatmap(conf_matrix, annot=True, cmap='Blues', fmt='g', cbar=False)\n",
    "plt.xlabel('Predicted Labels')\n",
    "plt.ylabel('True Labels')\n",
    "plt.title('Confusion Matrix')\n",
    "plt.show()\n",
    "\n",
    "# ROC Curve\n",
    "from sklearn.metrics import roc_curve, auc\n",
    "\n",
    "y_probs = knn.predict_proba(X_test)[:,1]  # Probabilities of being positive class\n",
    "fpr, tpr, _ = roc_curve(y_test, y_probs)\n",
    "roc_auc = auc(fpr, tpr)\n",
    "\n",
    "plt.figure(figsize=(8, 6))\n",
    "plt.plot(fpr, tpr, color='darkorange', lw=2, label='ROC curve (area = %0.2f)' % roc_auc)\n",
    "plt.plot([0, 1], [0, 1], color='navy', lw=2, linestyle='--')\n",
    "plt.xlim([0.0, 1.0])\n",
    "plt.ylim([0.0, 1.05])\n",
    "plt.xlabel('False Positive Rate')\n",
    "plt.ylabel('True Positive Rate')\n",
    "plt.title('ROC Curve')\n",
    "plt.legend(loc=\"lower right\")\n",
    "plt.show()\n",
    "\n",
    "# Precision-Recall Curve\n",
    "from sklearn.metrics import precision_recall_curve\n",
    "\n",
    "precision, recall, _ = precision_recall_curve(y_test, y_probs)\n",
    "\n",
    "plt.figure(figsize=(8, 6))\n",
    "plt.plot(recall, precision, color='blue', lw=2, label='Precision-Recall curve')\n",
    "plt.xlabel('Recall')\n",
    "plt.ylabel('Precision')\n",
    "plt.title('Precision-Recall Curve')\n",
    "plt.legend(loc=\"lower left\")\n",
    "plt.show()\n",
    "\n",
    "\n"
   ]
  },
  {
   "cell_type": "markdown",
   "id": "3ec4f0d4",
   "metadata": {
    "id": "3ec4f0d4"
   },
   "source": [
    "Confusion Matrix Analysis:\n",
    "\n",
    "The confusion matrix shows that the KNN model made 12 correct predictions of class 0 (true negatives) and 19 correct predictions of class 1 (true positives).\n",
    "However, it also made 4 incorrect predictions of class 1 (false positives) and 1 incorrect prediction of class 0 (false negative)."
   ]
  },
  {
   "cell_type": "markdown",
   "id": "18af33dc",
   "metadata": {
    "id": "18af33dc"
   },
   "source": [
    "ROC Curve:\n",
    "\n",
    "The ROC curve illustrates the trade-off between the true positive rate (sensitivity) and the false positive rate (1 - specificity) across different threshold settings.\n",
    "The area under the ROC curve (AUC) is 0.94, indicating that the model has good discriminatory power and performs well across various threshold settings."
   ]
  },
  {
   "cell_type": "markdown",
   "id": "5c216944",
   "metadata": {
    "id": "5c216944"
   },
   "source": [
    "Precision-Recall Curve:\n",
    "\n",
    "The precision-recall curve showcases the trade-off between precision and recall across different threshold settings.\n",
    "The curve demonstrates high precision and recall values, suggesting that the model performs well in correctly identifying positive instances while minimizing false positives."
   ]
  },
  {
   "cell_type": "markdown",
   "id": "18406143",
   "metadata": {
    "id": "18406143"
   },
   "source": [
    "Overall Evaluation:\n",
    "\n",
    "The KNN model demonstrates strong predictive performance overall, with high accuracy and AUC.\n",
    "It effectively discriminates between the two classes and maintains a good balance between precision and recall.\n",
    "However, there are a few false positive and false negative predictions, indicating potential areas for improvement.\n",
    "Further analysis could involve fine-tuning the model parameters, exploring feature engineering techniques, or considering alternative classification algorithms to potentially enhance performance."
   ]
  },
  {
   "cell_type": "code",
   "execution_count": null,
   "id": "cf14a7b0",
   "metadata": {
    "id": "cf14a7b0"
   },
   "outputs": [],
   "source": []
  }
 ],
 "metadata": {
  "colab": {
   "provenance": []
  },
  "kernelspec": {
   "display_name": "Python 3 (ipykernel)",
   "language": "python",
   "name": "python3"
  },
  "language_info": {
   "codemirror_mode": {
    "name": "ipython",
    "version": 3
   },
   "file_extension": ".py",
   "mimetype": "text/x-python",
   "name": "python",
   "nbconvert_exporter": "python",
   "pygments_lexer": "ipython3",
   "version": "3.11.5"
  }
 },
 "nbformat": 4,
 "nbformat_minor": 5
}
